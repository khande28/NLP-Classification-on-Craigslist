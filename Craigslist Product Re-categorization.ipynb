{
 "cells": [
  {
   "cell_type": "markdown",
   "id": "1abeac9f",
   "metadata": {},
   "source": [
    "## Importing the Library"
   ]
  },
  {
   "cell_type": "code",
   "execution_count": 1,
   "id": "3f146649",
   "metadata": {},
   "outputs": [],
   "source": [
    "import pandas as pd\n",
    "import numpy as np\n",
    "\n",
    "import matplotlib.pyplot as plt\n",
    "import seaborn as sns\n",
    "\n",
    "import optuna\n",
    "from sklearn.model_selection import GridSearchCV\n",
    "\n",
    "import nltk\n",
    "from nltk.corpus import stopwords\n",
    "\n",
    "from sklearn.tree import DecisionTreeClassifier \n",
    "from sklearn.linear_model import LogisticRegression\n",
    "from sklearn.naive_bayes import MultinomialNB\n",
    "from xgboost import XGBClassifier\n",
    "from sklearn.neural_network import MLPClassifier\n",
    "from sklearn.ensemble import RandomForestClassifier\n",
    "import lightgbm as lgb\n",
    "from catboost import CatBoostClassifier\n",
    "\n",
    "from sklearn.metrics import accuracy_score\n",
    "from sklearn.metrics import classification_report, confusion_matrix\n",
    "from sklearn.model_selection import train_test_split\n",
    "from sklearn.feature_extraction.text import TfidfVectorizer\n",
    "from sklearn.pipeline import Pipeline"
   ]
  },
  {
   "cell_type": "markdown",
   "id": "f0bc022e",
   "metadata": {},
   "source": [
    "## Input Data and Pre-processing"
   ]
  },
  {
   "cell_type": "code",
   "execution_count": 2,
   "id": "fc891cf0",
   "metadata": {},
   "outputs": [],
   "source": [
    "df=pd.read_csv('AUD_Final_craig_new.csv')"
   ]
  },
  {
   "cell_type": "code",
   "execution_count": 3,
   "id": "e35a9731",
   "metadata": {},
   "outputs": [
    {
     "data": {
      "text/html": [
       "<div>\n",
       "<style scoped>\n",
       "    .dataframe tbody tr th:only-of-type {\n",
       "        vertical-align: middle;\n",
       "    }\n",
       "\n",
       "    .dataframe tbody tr th {\n",
       "        vertical-align: top;\n",
       "    }\n",
       "\n",
       "    .dataframe thead th {\n",
       "        text-align: right;\n",
       "    }\n",
       "</style>\n",
       "<table border=\"1\" class=\"dataframe\">\n",
       "  <thead>\n",
       "    <tr style=\"text-align: right;\">\n",
       "      <th></th>\n",
       "      <th>Label</th>\n",
       "      <th>Product_Url</th>\n",
       "      <th>Content</th>\n",
       "      <th>header</th>\n",
       "    </tr>\n",
       "  </thead>\n",
       "  <tbody>\n",
       "    <tr>\n",
       "      <th>0</th>\n",
       "      <td>Not a Computer</td>\n",
       "      <td>https://chicago.craigslist.org/nwc/sys/d/batav...</td>\n",
       "      <td>Very good shape, photo shows phone being charg...</td>\n",
       "      <td>Apple Mag Safe charger  -  $20  (Batavia)</td>\n",
       "    </tr>\n",
       "    <tr>\n",
       "      <th>1</th>\n",
       "      <td>Not a Computer</td>\n",
       "      <td>https://chicago.craigslist.org/nwc/sys/d/chica...</td>\n",
       "      <td>Ibenzer Anti Blue Light Anti Glare Screen Prot...</td>\n",
       "      <td>MacBook Pro 16 Screen Protector 2019-2020  - ...</td>\n",
       "    </tr>\n",
       "    <tr>\n",
       "      <th>2</th>\n",
       "      <td>Not a Computer</td>\n",
       "      <td>https://chicago.craigslist.org/nwc/sys/d/lisle...</td>\n",
       "      <td>2 NIB Brand New Medion Wireless Keyboard and M...</td>\n",
       "      <td>NaN</td>\n",
       "    </tr>\n",
       "    <tr>\n",
       "      <th>3</th>\n",
       "      <td>Not a Computer</td>\n",
       "      <td>https://chicago.craigslist.org/nwc/sys/d/naper...</td>\n",
       "      <td>New, in box and sealed, HP LaserJet wireless m...</td>\n",
       "      <td>New Sealed HP LaserJet Full Duplex Wireless L...</td>\n",
       "    </tr>\n",
       "    <tr>\n",
       "      <th>4</th>\n",
       "      <td>Not a Computer</td>\n",
       "      <td>https://chicago.craigslist.org/nwc/sys/d/naper...</td>\n",
       "      <td>New and sealed in box D-Link 5-port 10/100 des...</td>\n",
       "      <td>New and Sealed D-Link 5 Port Desktop Switch  ...</td>\n",
       "    </tr>\n",
       "  </tbody>\n",
       "</table>\n",
       "</div>"
      ],
      "text/plain": [
       "            Label                                        Product_Url  \\\n",
       "0  Not a Computer  https://chicago.craigslist.org/nwc/sys/d/batav...   \n",
       "1  Not a Computer  https://chicago.craigslist.org/nwc/sys/d/chica...   \n",
       "2  Not a Computer  https://chicago.craigslist.org/nwc/sys/d/lisle...   \n",
       "3  Not a Computer  https://chicago.craigslist.org/nwc/sys/d/naper...   \n",
       "4  Not a Computer  https://chicago.craigslist.org/nwc/sys/d/naper...   \n",
       "\n",
       "                                             Content  \\\n",
       "0  Very good shape, photo shows phone being charg...   \n",
       "1  Ibenzer Anti Blue Light Anti Glare Screen Prot...   \n",
       "2  2 NIB Brand New Medion Wireless Keyboard and M...   \n",
       "3  New, in box and sealed, HP LaserJet wireless m...   \n",
       "4  New and sealed in box D-Link 5-port 10/100 des...   \n",
       "\n",
       "                                              header  \n",
       "0        Apple Mag Safe charger  -  $20  (Batavia)    \n",
       "1   MacBook Pro 16 Screen Protector 2019-2020  - ...  \n",
       "2                                                NaN  \n",
       "3   New Sealed HP LaserJet Full Duplex Wireless L...  \n",
       "4   New and Sealed D-Link 5 Port Desktop Switch  ...  "
      ]
     },
     "execution_count": 3,
     "metadata": {},
     "output_type": "execute_result"
    }
   ],
   "source": [
    "df.head()"
   ]
  },
  {
   "cell_type": "code",
   "execution_count": 4,
   "id": "4d7f69bf",
   "metadata": {},
   "outputs": [
    {
     "name": "stdout",
     "output_type": "stream",
     "text": [
      "The number of rows and columns in the dataset are: (2143, 4)\n"
     ]
    }
   ],
   "source": [
    "print('The number of rows and columns in the dataset are:',df.shape)"
   ]
  },
  {
   "cell_type": "code",
   "execution_count": 5,
   "id": "f49673cc",
   "metadata": {},
   "outputs": [
    {
     "name": "stdout",
     "output_type": "stream",
     "text": [
      "                Count  Percentage\n",
      "Computer         1287   60.055996\n",
      "Not a Computer    856   39.944004\n"
     ]
    },
    {
     "data": {
      "image/png": "[encoded data removed]",
      "text/plain": [
       "<Figure size 576x432 with 1 Axes>"
      ]
     },
     "metadata": {
      "needs_background": "light"
     },
     "output_type": "display_data"
    }
   ],
   "source": [
    "value_counts=df['Label'].value_counts()\n",
    "percentage=(value_counts/len(df))*100\n",
    "result=pd.DataFrame({'Count': value_counts, 'Percentage': percentage})\n",
    "print(result)\n",
    "\n",
    "result['Count'].plot(kind='bar', figsize=(8, 6))\n",
    "plt.title('Number of Records by Label')\n",
    "plt.xlabel('Label Category')\n",
    "plt.ylabel('Number of Records')\n",
    "\n",
    "for i, count in enumerate(result['Count']):\n",
    "    plt.text(i, count + 10, str(count), ha='center')\n",
    "\n",
    "plt.xticks(rotation=0)\n",
    "\n",
    "plt.show()"
   ]
  },
  {
   "cell_type": "code",
   "execution_count": 6,
   "id": "2c32e763",
   "metadata": {},
   "outputs": [
    {
     "name": "stdout",
     "output_type": "stream",
     "text": [
      "             Has Null  Percentage Null\n",
      "Label           False         0.000000\n",
      "Product_Url     False         0.000000\n",
      "Content          True         0.233318\n",
      "header           True         4.433038\n"
     ]
    }
   ],
   "source": [
    "null_check = df.isnull().any()\n",
    "percentage_null = (df.isnull().mean()) * 100\n",
    "result = pd.DataFrame({'Has Null': null_check, 'Percentage Null': percentage_null})\n",
    "\n",
    "print(result)"
   ]
  },
  {
   "cell_type": "code",
   "execution_count": 7,
   "id": "4899291f",
   "metadata": {},
   "outputs": [],
   "source": [
    "#Extracting the key words from the Product_Url to use it for classification\n",
    "extracted_url=[]\n",
    "for i in range(0,len(df)):\n",
    "    start_index=df['Product_Url'][i].find('/d/')\n",
    "    end_index=df['Product_Url'][i].rfind('/')\n",
    "    extracted_url.append(df['Product_Url'][i][start_index+3:end_index])"
   ]
  },
  {
   "cell_type": "code",
   "execution_count": 8,
   "id": "83032999",
   "metadata": {},
   "outputs": [],
   "source": [
    "#Replacing '-' with ' ' to enable tokenization in the later stage\n",
    "df['Extracted_URL']=extracted_url\n",
    "df.loc[:, 'Extracted_URL'] = df['Extracted_URL'].str.replace('-', ' ')"
   ]
  },
  {
   "cell_type": "code",
   "execution_count": 9,
   "id": "88f09ba8",
   "metadata": {},
   "outputs": [
    {
     "data": {
      "text/html": [
       "<div>\n",
       "<style scoped>\n",
       "    .dataframe tbody tr th:only-of-type {\n",
       "        vertical-align: middle;\n",
       "    }\n",
       "\n",
       "    .dataframe tbody tr th {\n",
       "        vertical-align: top;\n",
       "    }\n",
       "\n",
       "    .dataframe thead th {\n",
       "        text-align: right;\n",
       "    }\n",
       "</style>\n",
       "<table border=\"1\" class=\"dataframe\">\n",
       "  <thead>\n",
       "    <tr style=\"text-align: right;\">\n",
       "      <th></th>\n",
       "      <th>Label</th>\n",
       "      <th>Product_Url</th>\n",
       "      <th>Content</th>\n",
       "      <th>header</th>\n",
       "      <th>Extracted_URL</th>\n",
       "    </tr>\n",
       "  </thead>\n",
       "  <tbody>\n",
       "    <tr>\n",
       "      <th>0</th>\n",
       "      <td>Not a Computer</td>\n",
       "      <td>https://chicago.craigslist.org/nwc/sys/d/batav...</td>\n",
       "      <td>Very good shape, photo shows phone being charg...</td>\n",
       "      <td>Apple Mag Safe charger  -  $20  (Batavia)</td>\n",
       "      <td>batavia apple mag safe charger</td>\n",
       "    </tr>\n",
       "    <tr>\n",
       "      <th>1</th>\n",
       "      <td>Not a Computer</td>\n",
       "      <td>https://chicago.craigslist.org/nwc/sys/d/chica...</td>\n",
       "      <td>Ibenzer Anti Blue Light Anti Glare Screen Prot...</td>\n",
       "      <td>MacBook Pro 16 Screen Protector 2019-2020  - ...</td>\n",
       "      <td>chicago macbook pro 16 screen protector</td>\n",
       "    </tr>\n",
       "    <tr>\n",
       "      <th>2</th>\n",
       "      <td>Not a Computer</td>\n",
       "      <td>https://chicago.craigslist.org/nwc/sys/d/lisle...</td>\n",
       "      <td>2 NIB Brand New Medion Wireless Keyboard and M...</td>\n",
       "      <td>NaN</td>\n",
       "      <td>lisle nib brand new medion wireless</td>\n",
       "    </tr>\n",
       "    <tr>\n",
       "      <th>3</th>\n",
       "      <td>Not a Computer</td>\n",
       "      <td>https://chicago.craigslist.org/nwc/sys/d/naper...</td>\n",
       "      <td>New, in box and sealed, HP LaserJet wireless m...</td>\n",
       "      <td>New Sealed HP LaserJet Full Duplex Wireless L...</td>\n",
       "      <td>naperville new sealed hp laserjet full</td>\n",
       "    </tr>\n",
       "    <tr>\n",
       "      <th>4</th>\n",
       "      <td>Not a Computer</td>\n",
       "      <td>https://chicago.craigslist.org/nwc/sys/d/naper...</td>\n",
       "      <td>New and sealed in box D-Link 5-port 10/100 des...</td>\n",
       "      <td>New and Sealed D-Link 5 Port Desktop Switch  ...</td>\n",
       "      <td>naperville new and sealed link port</td>\n",
       "    </tr>\n",
       "  </tbody>\n",
       "</table>\n",
       "</div>"
      ],
      "text/plain": [
       "            Label                                        Product_Url  \\\n",
       "0  Not a Computer  https://chicago.craigslist.org/nwc/sys/d/batav...   \n",
       "1  Not a Computer  https://chicago.craigslist.org/nwc/sys/d/chica...   \n",
       "2  Not a Computer  https://chicago.craigslist.org/nwc/sys/d/lisle...   \n",
       "3  Not a Computer  https://chicago.craigslist.org/nwc/sys/d/naper...   \n",
       "4  Not a Computer  https://chicago.craigslist.org/nwc/sys/d/naper...   \n",
       "\n",
       "                                             Content  \\\n",
       "0  Very good shape, photo shows phone being charg...   \n",
       "1  Ibenzer Anti Blue Light Anti Glare Screen Prot...   \n",
       "2  2 NIB Brand New Medion Wireless Keyboard and M...   \n",
       "3  New, in box and sealed, HP LaserJet wireless m...   \n",
       "4  New and sealed in box D-Link 5-port 10/100 des...   \n",
       "\n",
       "                                              header  \\\n",
       "0        Apple Mag Safe charger  -  $20  (Batavia)     \n",
       "1   MacBook Pro 16 Screen Protector 2019-2020  - ...   \n",
       "2                                                NaN   \n",
       "3   New Sealed HP LaserJet Full Duplex Wireless L...   \n",
       "4   New and Sealed D-Link 5 Port Desktop Switch  ...   \n",
       "\n",
       "                             Extracted_URL  \n",
       "0           batavia apple mag safe charger  \n",
       "1  chicago macbook pro 16 screen protector  \n",
       "2      lisle nib brand new medion wireless  \n",
       "3   naperville new sealed hp laserjet full  \n",
       "4      naperville new and sealed link port  "
      ]
     },
     "execution_count": 9,
     "metadata": {},
     "output_type": "execute_result"
    }
   ],
   "source": [
    "df.head()"
   ]
  },
  {
   "cell_type": "code",
   "execution_count": 10,
   "id": "a776e5df",
   "metadata": {},
   "outputs": [],
   "source": [
    "from sklearn.preprocessing import LabelEncoder\n",
    "labelencoder=LabelEncoder()\n",
    "df['Flag'] = labelencoder.fit_transform(df['Label'])"
   ]
  },
  {
   "cell_type": "code",
   "execution_count": 11,
   "id": "08312e78",
   "metadata": {},
   "outputs": [
    {
     "data": {
      "text/html": [
       "<div>\n",
       "<style scoped>\n",
       "    .dataframe tbody tr th:only-of-type {\n",
       "        vertical-align: middle;\n",
       "    }\n",
       "\n",
       "    .dataframe tbody tr th {\n",
       "        vertical-align: top;\n",
       "    }\n",
       "\n",
       "    .dataframe thead th {\n",
       "        text-align: right;\n",
       "    }\n",
       "</style>\n",
       "<table border=\"1\" class=\"dataframe\">\n",
       "  <thead>\n",
       "    <tr style=\"text-align: right;\">\n",
       "      <th></th>\n",
       "      <th>Label</th>\n",
       "      <th>Product_Url</th>\n",
       "      <th>Content</th>\n",
       "      <th>header</th>\n",
       "      <th>Extracted_URL</th>\n",
       "      <th>Flag</th>\n",
       "    </tr>\n",
       "  </thead>\n",
       "  <tbody>\n",
       "    <tr>\n",
       "      <th>0</th>\n",
       "      <td>Not a Computer</td>\n",
       "      <td>https://chicago.craigslist.org/nwc/sys/d/batav...</td>\n",
       "      <td>Very good shape, photo shows phone being charg...</td>\n",
       "      <td>Apple Mag Safe charger  -  $20  (Batavia)</td>\n",
       "      <td>batavia apple mag safe charger</td>\n",
       "      <td>1</td>\n",
       "    </tr>\n",
       "    <tr>\n",
       "      <th>1</th>\n",
       "      <td>Not a Computer</td>\n",
       "      <td>https://chicago.craigslist.org/nwc/sys/d/chica...</td>\n",
       "      <td>Ibenzer Anti Blue Light Anti Glare Screen Prot...</td>\n",
       "      <td>MacBook Pro 16 Screen Protector 2019-2020  - ...</td>\n",
       "      <td>chicago macbook pro 16 screen protector</td>\n",
       "      <td>1</td>\n",
       "    </tr>\n",
       "    <tr>\n",
       "      <th>2</th>\n",
       "      <td>Not a Computer</td>\n",
       "      <td>https://chicago.craigslist.org/nwc/sys/d/lisle...</td>\n",
       "      <td>2 NIB Brand New Medion Wireless Keyboard and M...</td>\n",
       "      <td>NaN</td>\n",
       "      <td>lisle nib brand new medion wireless</td>\n",
       "      <td>1</td>\n",
       "    </tr>\n",
       "    <tr>\n",
       "      <th>3</th>\n",
       "      <td>Not a Computer</td>\n",
       "      <td>https://chicago.craigslist.org/nwc/sys/d/naper...</td>\n",
       "      <td>New, in box and sealed, HP LaserJet wireless m...</td>\n",
       "      <td>New Sealed HP LaserJet Full Duplex Wireless L...</td>\n",
       "      <td>naperville new sealed hp laserjet full</td>\n",
       "      <td>1</td>\n",
       "    </tr>\n",
       "    <tr>\n",
       "      <th>4</th>\n",
       "      <td>Not a Computer</td>\n",
       "      <td>https://chicago.craigslist.org/nwc/sys/d/naper...</td>\n",
       "      <td>New and sealed in box D-Link 5-port 10/100 des...</td>\n",
       "      <td>New and Sealed D-Link 5 Port Desktop Switch  ...</td>\n",
       "      <td>naperville new and sealed link port</td>\n",
       "      <td>1</td>\n",
       "    </tr>\n",
       "  </tbody>\n",
       "</table>\n",
       "</div>"
      ],
      "text/plain": [
       "            Label                                        Product_Url  \\\n",
       "0  Not a Computer  https://chicago.craigslist.org/nwc/sys/d/batav...   \n",
       "1  Not a Computer  https://chicago.craigslist.org/nwc/sys/d/chica...   \n",
       "2  Not a Computer  https://chicago.craigslist.org/nwc/sys/d/lisle...   \n",
       "3  Not a Computer  https://chicago.craigslist.org/nwc/sys/d/naper...   \n",
       "4  Not a Computer  https://chicago.craigslist.org/nwc/sys/d/naper...   \n",
       "\n",
       "                                             Content  \\\n",
       "0  Very good shape, photo shows phone being charg...   \n",
       "1  Ibenzer Anti Blue Light Anti Glare Screen Prot...   \n",
       "2  2 NIB Brand New Medion Wireless Keyboard and M...   \n",
       "3  New, in box and sealed, HP LaserJet wireless m...   \n",
       "4  New and sealed in box D-Link 5-port 10/100 des...   \n",
       "\n",
       "                                              header  \\\n",
       "0        Apple Mag Safe charger  -  $20  (Batavia)     \n",
       "1   MacBook Pro 16 Screen Protector 2019-2020  - ...   \n",
       "2                                                NaN   \n",
       "3   New Sealed HP LaserJet Full Duplex Wireless L...   \n",
       "4   New and Sealed D-Link 5 Port Desktop Switch  ...   \n",
       "\n",
       "                             Extracted_URL  Flag  \n",
       "0           batavia apple mag safe charger     1  \n",
       "1  chicago macbook pro 16 screen protector     1  \n",
       "2      lisle nib brand new medion wireless     1  \n",
       "3   naperville new sealed hp laserjet full     1  \n",
       "4      naperville new and sealed link port     1  "
      ]
     },
     "execution_count": 11,
     "metadata": {},
     "output_type": "execute_result"
    }
   ],
   "source": [
    "df.head()"
   ]
  },
  {
   "cell_type": "code",
   "execution_count": 12,
   "id": "f3ccd764",
   "metadata": {},
   "outputs": [
    {
     "name": "stderr",
     "output_type": "stream",
     "text": [
      "[nltk_data] Downloading package stopwords to\n",
      "[nltk_data]     /home/khande28/nltk_data...\n",
      "[nltk_data]   Package stopwords is already up-to-date!\n"
     ]
    },
    {
     "data": {
      "text/plain": [
       "True"
      ]
     },
     "execution_count": 12,
     "metadata": {},
     "output_type": "execute_result"
    }
   ],
   "source": [
    "nltk.download('stopwords')"
   ]
  },
  {
   "cell_type": "code",
   "execution_count": 13,
   "id": "7b3f01dd",
   "metadata": {},
   "outputs": [],
   "source": [
    "# Tokenize the collection\n",
    "token_list = []\n",
    "for i in df['Extracted_URL']:\n",
    "    # Handle missing values\n",
    "    if pd.notnull(i):\n",
    "        token_list.append(nltk.word_tokenize(i))\n",
    "\n",
    "# Lemmatize the words\n",
    "lammetize_list = []\n",
    "for i in token_list:\n",
    "    lemmatizer = nltk.stem.WordNetLemmatizer()\n",
    "    lemmatized_token = [lemmatizer.lemmatize(token) for token in i]\n",
    "    lammetize_list.append(lemmatized_token)\n",
    "\n",
    "# Remove stop words\n",
    "stop_list = []\n",
    "for i in lammetize_list:\n",
    "    stop_words_removed = [token for token in i if not token in stopwords.words('english') if token.isalnum() and token.lower() != 'nan']\n",
    "    stop_list.append(stop_words_removed)"
   ]
  },
  {
   "cell_type": "code",
   "execution_count": 14,
   "id": "84d10c18",
   "metadata": {},
   "outputs": [],
   "source": [
    "#Defining a function to again add the token back into a sentence\n",
    "def convert_to_string(a): \n",
    "    \n",
    "    # initialize an empty string\n",
    "    first_string = \"\" \n",
    "    \n",
    "    # traverse in the string  \n",
    "    for element in a: \n",
    "        first_string = first_string+\" \"+element  \n",
    "    \n",
    "    # return string  \n",
    "    return first_string "
   ]
  },
  {
   "cell_type": "code",
   "execution_count": 15,
   "id": "c47fb14d",
   "metadata": {},
   "outputs": [],
   "source": [
    "final_list=[]\n",
    "for i in stop_list:\n",
    "    sen_list=convert_to_string(i)\n",
    "    final_list.append(sen_list)"
   ]
  },
  {
   "cell_type": "code",
   "execution_count": 16,
   "id": "17a5b700",
   "metadata": {},
   "outputs": [
    {
     "data": {
      "text/html": [
       "<div>\n",
       "<style scoped>\n",
       "    .dataframe tbody tr th:only-of-type {\n",
       "        vertical-align: middle;\n",
       "    }\n",
       "\n",
       "    .dataframe tbody tr th {\n",
       "        vertical-align: top;\n",
       "    }\n",
       "\n",
       "    .dataframe thead th {\n",
       "        text-align: right;\n",
       "    }\n",
       "</style>\n",
       "<table border=\"1\" class=\"dataframe\">\n",
       "  <thead>\n",
       "    <tr style=\"text-align: right;\">\n",
       "      <th></th>\n",
       "      <th>Cleaned_URL</th>\n",
       "    </tr>\n",
       "  </thead>\n",
       "  <tbody>\n",
       "    <tr>\n",
       "      <th>0</th>\n",
       "      <td>batavia apple mag safe charger</td>\n",
       "    </tr>\n",
       "    <tr>\n",
       "      <th>1</th>\n",
       "      <td>chicago macbook pro 16 screen protector</td>\n",
       "    </tr>\n",
       "    <tr>\n",
       "      <th>2</th>\n",
       "      <td>lisle nib brand new medion wireless</td>\n",
       "    </tr>\n",
       "    <tr>\n",
       "      <th>3</th>\n",
       "      <td>naperville new sealed hp laserjet full</td>\n",
       "    </tr>\n",
       "    <tr>\n",
       "      <th>4</th>\n",
       "      <td>naperville new sealed link port</td>\n",
       "    </tr>\n",
       "    <tr>\n",
       "      <th>...</th>\n",
       "      <td>...</td>\n",
       "    </tr>\n",
       "    <tr>\n",
       "      <th>2138</th>\n",
       "      <td>oakland compatible hp laserjet</td>\n",
       "    </tr>\n",
       "    <tr>\n",
       "      <th>2139</th>\n",
       "      <td>alameda vizio 26 computer monitor</td>\n",
       "    </tr>\n",
       "    <tr>\n",
       "      <th>2140</th>\n",
       "      <td>cupertino macbook pro 16 inch loaded m1</td>\n",
       "    </tr>\n",
       "    <tr>\n",
       "      <th>2141</th>\n",
       "      <td>fremont 2019 macbook pro 16 inch gb ssd</td>\n",
       "    </tr>\n",
       "    <tr>\n",
       "      <th>2142</th>\n",
       "      <td>palo alto 12 bay sun microsystems</td>\n",
       "    </tr>\n",
       "  </tbody>\n",
       "</table>\n",
       "<p>2143 rows × 1 columns</p>\n",
       "</div>"
      ],
      "text/plain": [
       "                                   Cleaned_URL\n",
       "0               batavia apple mag safe charger\n",
       "1      chicago macbook pro 16 screen protector\n",
       "2          lisle nib brand new medion wireless\n",
       "3       naperville new sealed hp laserjet full\n",
       "4              naperville new sealed link port\n",
       "...                                        ...\n",
       "2138            oakland compatible hp laserjet\n",
       "2139         alameda vizio 26 computer monitor\n",
       "2140   cupertino macbook pro 16 inch loaded m1\n",
       "2141   fremont 2019 macbook pro 16 inch gb ssd\n",
       "2142         palo alto 12 bay sun microsystems\n",
       "\n",
       "[2143 rows x 1 columns]"
      ]
     },
     "execution_count": 16,
     "metadata": {},
     "output_type": "execute_result"
    }
   ],
   "source": [
    "df2=pd.DataFrame(final_list,columns=['Cleaned_URL'])\n",
    "df2"
   ]
  },
  {
   "cell_type": "code",
   "execution_count": 17,
   "id": "2f4d9132",
   "metadata": {},
   "outputs": [
    {
     "data": {
      "text/html": [
       "<div>\n",
       "<style scoped>\n",
       "    .dataframe tbody tr th:only-of-type {\n",
       "        vertical-align: middle;\n",
       "    }\n",
       "\n",
       "    .dataframe tbody tr th {\n",
       "        vertical-align: top;\n",
       "    }\n",
       "\n",
       "    .dataframe thead th {\n",
       "        text-align: right;\n",
       "    }\n",
       "</style>\n",
       "<table border=\"1\" class=\"dataframe\">\n",
       "  <thead>\n",
       "    <tr style=\"text-align: right;\">\n",
       "      <th></th>\n",
       "      <th>Label</th>\n",
       "      <th>Product_Url</th>\n",
       "      <th>Content</th>\n",
       "      <th>header</th>\n",
       "      <th>Extracted_URL</th>\n",
       "      <th>Flag</th>\n",
       "      <th>Cleaned_URL</th>\n",
       "    </tr>\n",
       "  </thead>\n",
       "  <tbody>\n",
       "    <tr>\n",
       "      <th>0</th>\n",
       "      <td>Not a Computer</td>\n",
       "      <td>https://chicago.craigslist.org/nwc/sys/d/batav...</td>\n",
       "      <td>Very good shape, photo shows phone being charg...</td>\n",
       "      <td>Apple Mag Safe charger  -  $20  (Batavia)</td>\n",
       "      <td>batavia apple mag safe charger</td>\n",
       "      <td>1</td>\n",
       "      <td>batavia apple mag safe charger</td>\n",
       "    </tr>\n",
       "    <tr>\n",
       "      <th>1</th>\n",
       "      <td>Not a Computer</td>\n",
       "      <td>https://chicago.craigslist.org/nwc/sys/d/chica...</td>\n",
       "      <td>Ibenzer Anti Blue Light Anti Glare Screen Prot...</td>\n",
       "      <td>MacBook Pro 16 Screen Protector 2019-2020  - ...</td>\n",
       "      <td>chicago macbook pro 16 screen protector</td>\n",
       "      <td>1</td>\n",
       "      <td>chicago macbook pro 16 screen protector</td>\n",
       "    </tr>\n",
       "    <tr>\n",
       "      <th>2</th>\n",
       "      <td>Not a Computer</td>\n",
       "      <td>https://chicago.craigslist.org/nwc/sys/d/lisle...</td>\n",
       "      <td>2 NIB Brand New Medion Wireless Keyboard and M...</td>\n",
       "      <td>NaN</td>\n",
       "      <td>lisle nib brand new medion wireless</td>\n",
       "      <td>1</td>\n",
       "      <td>lisle nib brand new medion wireless</td>\n",
       "    </tr>\n",
       "    <tr>\n",
       "      <th>3</th>\n",
       "      <td>Not a Computer</td>\n",
       "      <td>https://chicago.craigslist.org/nwc/sys/d/naper...</td>\n",
       "      <td>New, in box and sealed, HP LaserJet wireless m...</td>\n",
       "      <td>New Sealed HP LaserJet Full Duplex Wireless L...</td>\n",
       "      <td>naperville new sealed hp laserjet full</td>\n",
       "      <td>1</td>\n",
       "      <td>naperville new sealed hp laserjet full</td>\n",
       "    </tr>\n",
       "    <tr>\n",
       "      <th>4</th>\n",
       "      <td>Not a Computer</td>\n",
       "      <td>https://chicago.craigslist.org/nwc/sys/d/naper...</td>\n",
       "      <td>New and sealed in box D-Link 5-port 10/100 des...</td>\n",
       "      <td>New and Sealed D-Link 5 Port Desktop Switch  ...</td>\n",
       "      <td>naperville new and sealed link port</td>\n",
       "      <td>1</td>\n",
       "      <td>naperville new sealed link port</td>\n",
       "    </tr>\n",
       "  </tbody>\n",
       "</table>\n",
       "</div>"
      ],
      "text/plain": [
       "            Label                                        Product_Url  \\\n",
       "0  Not a Computer  https://chicago.craigslist.org/nwc/sys/d/batav...   \n",
       "1  Not a Computer  https://chicago.craigslist.org/nwc/sys/d/chica...   \n",
       "2  Not a Computer  https://chicago.craigslist.org/nwc/sys/d/lisle...   \n",
       "3  Not a Computer  https://chicago.craigslist.org/nwc/sys/d/naper...   \n",
       "4  Not a Computer  https://chicago.craigslist.org/nwc/sys/d/naper...   \n",
       "\n",
       "                                             Content  \\\n",
       "0  Very good shape, photo shows phone being charg...   \n",
       "1  Ibenzer Anti Blue Light Anti Glare Screen Prot...   \n",
       "2  2 NIB Brand New Medion Wireless Keyboard and M...   \n",
       "3  New, in box and sealed, HP LaserJet wireless m...   \n",
       "4  New and sealed in box D-Link 5-port 10/100 des...   \n",
       "\n",
       "                                              header  \\\n",
       "0        Apple Mag Safe charger  -  $20  (Batavia)     \n",
       "1   MacBook Pro 16 Screen Protector 2019-2020  - ...   \n",
       "2                                                NaN   \n",
       "3   New Sealed HP LaserJet Full Duplex Wireless L...   \n",
       "4   New and Sealed D-Link 5 Port Desktop Switch  ...   \n",
       "\n",
       "                             Extracted_URL  Flag  \\\n",
       "0           batavia apple mag safe charger     1   \n",
       "1  chicago macbook pro 16 screen protector     1   \n",
       "2      lisle nib brand new medion wireless     1   \n",
       "3   naperville new sealed hp laserjet full     1   \n",
       "4      naperville new and sealed link port     1   \n",
       "\n",
       "                                Cleaned_URL  \n",
       "0            batavia apple mag safe charger  \n",
       "1   chicago macbook pro 16 screen protector  \n",
       "2       lisle nib brand new medion wireless  \n",
       "3    naperville new sealed hp laserjet full  \n",
       "4           naperville new sealed link port  "
      ]
     },
     "execution_count": 17,
     "metadata": {},
     "output_type": "execute_result"
    }
   ],
   "source": [
    "#Creating the final Dataframe\n",
    "final=pd.merge(df,df2,left_index=True,right_index=True)\n",
    "final.head()"
   ]
  },
  {
   "cell_type": "markdown",
   "id": "77a89e73",
   "metadata": {},
   "source": [
    "## Models"
   ]
  },
  {
   "cell_type": "code",
   "execution_count": 18,
   "id": "878d2278",
   "metadata": {},
   "outputs": [],
   "source": [
    "X_train, X_test, Y_train, Y_test = train_test_split(final['Cleaned_URL'], final['Flag'], test_size=0.3, random_state=183, shuffle=True)"
   ]
  },
  {
   "cell_type": "code",
   "execution_count": 19,
   "id": "a57ac5fa",
   "metadata": {},
   "outputs": [],
   "source": [
    "vectorizer=TfidfVectorizer(min_df=1,ngram_range=(1,2))\n",
    "v1=vectorizer.fit(X_train)\n",
    "\n",
    "X_train_transformed=vectorizer.transform(X_train)\n",
    "X_test_transformed=vectorizer.transform(X_test)"
   ]
  },
  {
   "cell_type": "code",
   "execution_count": 20,
   "id": "8b2da9b0",
   "metadata": {},
   "outputs": [
    {
     "data": {
      "text/plain": [
       "(1500, 5824)"
      ]
     },
     "execution_count": 20,
     "metadata": {},
     "output_type": "execute_result"
    }
   ],
   "source": [
    "X_train_transformed.shape"
   ]
  },
  {
   "cell_type": "code",
   "execution_count": 21,
   "id": "22e0402d",
   "metadata": {},
   "outputs": [
    {
     "data": {
      "text/plain": [
       "(643, 5824)"
      ]
     },
     "execution_count": 21,
     "metadata": {},
     "output_type": "execute_result"
    }
   ],
   "source": [
    "X_test_transformed.shape"
   ]
  },
  {
   "cell_type": "code",
   "execution_count": 22,
   "id": "e2b6c5f4",
   "metadata": {},
   "outputs": [
    {
     "data": {
      "text/plain": [
       "941                   romeoville netgear cm1000\n",
       "570       chicago apple macbook laptop Computer\n",
       "1945      pleasanton apple macbook air ghz core\n",
       "1162      mac mini 2014 i5 4278u 26ghz 8gb iris\n",
       "590      chicago netgear wndr4500 n900 wireless\n",
       "Name: Cleaned_URL, dtype: object"
      ]
     },
     "execution_count": 22,
     "metadata": {},
     "output_type": "execute_result"
    }
   ],
   "source": [
    "X_train.head()"
   ]
  },
  {
   "cell_type": "code",
   "execution_count": 23,
   "id": "84e75272",
   "metadata": {},
   "outputs": [
    {
     "data": {
      "text/plain": [
       "1129            gilroy pfsense router firewall\n",
       "388             villa park 2020 macbook air 13\n",
       "367         melrose park microsoft surface pro\n",
       "135                   chicago mac mini m2 2023\n",
       "26       schaumburg i7 dell precision 5720 aio\n",
       "Name: Cleaned_URL, dtype: object"
      ]
     },
     "execution_count": 23,
     "metadata": {},
     "output_type": "execute_result"
    }
   ],
   "source": [
    "X_test.head()"
   ]
  },
  {
   "cell_type": "markdown",
   "id": "4e178b84",
   "metadata": {},
   "source": [
    "## 1. Logistic Regression"
   ]
  },
  {
   "cell_type": "code",
   "execution_count": 24,
   "id": "431105e8",
   "metadata": {
    "scrolled": true
   },
   "outputs": [
    {
     "name": "stdout",
     "output_type": "stream",
     "text": [
      "Best parameters: {'C': 10, 'penalty': 'l2'}\n",
      "Accuracy of Logit model with best parameters: 86.1586%\n",
      "[0.10924739 0.89075261]\n"
     ]
    }
   ],
   "source": [
    "Logit_model = LogisticRegression()\n",
    "param_grid = {\n",
    "    'penalty': ['l2'],\n",
    "    'C': [0.001, 0.01, 0.1, 1, 10, 100]\n",
    "}\n",
    "\n",
    "# Perform grid search with cross-validation\n",
    "grid_search = GridSearchCV(estimator=Logit_model, param_grid=param_grid, cv=5, scoring='accuracy')\n",
    "grid_search.fit(X_train_transformed, Y_train)\n",
    "\n",
    "# Get the best parameters\n",
    "best_params = grid_search.best_params_\n",
    "print(\"Best parameters:\", best_params)\n",
    "\n",
    "# Train the model with the best parameters\n",
    "Logit_model_best = LogisticRegression(**best_params)\n",
    "Logit_model_best.fit(X_train_transformed, Y_train)\n",
    "\n",
    "y_pred_logit_best = Logit_model_best.predict(X_test_transformed)\n",
    "accuracy_logit_best = accuracy_score(Y_test, y_pred_logit_best)\n",
    "print(\"Accuracy of Logit model with best parameters: {:.4f}%\".format(accuracy_logit_best * 100))\n",
    "\n",
    "y_pred_prob_logit_best = Logit_model_best.predict_proba(X_test_transformed)\n",
    "print(y_pred_prob_logit_best[0])"
   ]
  },
  {
   "cell_type": "markdown",
   "id": "ea6efffc",
   "metadata": {},
   "source": [
    "## 2. Naive Bayes"
   ]
  },
  {
   "cell_type": "code",
   "execution_count": 25,
   "id": "79f59d25",
   "metadata": {},
   "outputs": [
    {
     "name": "stdout",
     "output_type": "stream",
     "text": [
      "Best alpha value: 0.1\n",
      "Accuracy of Naive Bayes model with best alpha: 86.3142%\n",
      "              precision    recall  f1-score   support\n",
      "\n",
      "           0       0.92      0.86      0.89       418\n",
      "           1       0.77      0.87      0.82       225\n",
      "\n",
      "    accuracy                           0.86       643\n",
      "   macro avg       0.85      0.86      0.85       643\n",
      "weighted avg       0.87      0.86      0.86       643\n",
      "\n",
      "[[360  58]\n",
      " [ 30 195]]\n"
     ]
    }
   ],
   "source": [
    "# Define the model\n",
    "NB_model = MultinomialNB()\n",
    "\n",
    "# Define the parameter grid\n",
    "param_grid = {'alpha': [0.1, 0.5, 1.0, 2.0, 5.0, 10.0]}\n",
    "\n",
    "# Perform grid search\n",
    "grid_search = GridSearchCV(NB_model, param_grid, cv=5, scoring='accuracy')\n",
    "grid_search.fit(X_train_transformed, Y_train)\n",
    "\n",
    "# Get the best parameter\n",
    "best_alpha = grid_search.best_params_['alpha']\n",
    "print(\"Best alpha value:\", best_alpha)\n",
    "\n",
    "# Train the model with the best alpha\n",
    "NB_model_best = MultinomialNB(alpha=best_alpha)\n",
    "NB_model_best.fit(X_train_transformed, Y_train)\n",
    "\n",
    "# Evaluation\n",
    "y_pred_NB_best = NB_model_best.predict(X_test_transformed)\n",
    "accuracy_NB_best = accuracy_score(Y_test, y_pred_NB_best)\n",
    "print(\"Accuracy of Naive Bayes model with best alpha: {:.4f}%\".format(accuracy_NB_best * 100))\n",
    "\n",
    "print(classification_report(y_pred_NB_best,Y_test))\n",
    "print(confusion_matrix(y_pred_NB_best,Y_test))"
   ]
  },
  {
   "cell_type": "markdown",
   "id": "ec889548",
   "metadata": {},
   "source": [
    "## 3. XGBoost"
   ]
  },
  {
   "cell_type": "code",
   "execution_count": 36,
   "id": "97961839",
   "metadata": {},
   "outputs": [
    {
     "name": "stdout",
     "output_type": "stream",
     "text": [
      "Best parameters: {'learning_rate': 0.1, 'max_depth': 5, 'n_estimators': 200, 'subsample': 0.8}\n",
      "Accuracy of XGBoost Classifier Model with best parameters: 83.5148%\n"
     ]
    }
   ],
   "source": [
    "xgboost_model = XGBClassifier(random_state=0)\n",
    "param_grid = {\n",
    "    'learning_rate': [0.1, 0.01],\n",
    "    'n_estimators': [100, 200, 300],\n",
    "    'max_depth': [3, 5, 7],\n",
    "    'subsample': [0.8, 0.9],\n",
    "}\n",
    "\n",
    "# Perform grid search\n",
    "grid_search = GridSearchCV(xgboost_model, param_grid, cv=5, scoring='accuracy')\n",
    "grid_search.fit(X_train_transformed, Y_train)\n",
    "\n",
    "# Get the best parameters\n",
    "best_params = grid_search.best_params_\n",
    "print(\"Best parameters:\", best_params)\n",
    "\n",
    "# Train the model with the best parameters\n",
    "xgboost_model_best = XGBClassifier(**best_params, random_state=0)\n",
    "xgboost_model_best.fit(X_train_transformed, Y_train)\n",
    "\n",
    "# Evaluation\n",
    "y_pred_xgboost_best = xgboost_model_best.predict(X_test_transformed)\n",
    "accuracy_xgboost_best = accuracy_score(Y_test, y_pred_xgboost_best)\n",
    "print(\"Accuracy of XGBoost Classifier Model with best parameters: {:.4f}%\".format(accuracy_xgboost_best * 100))"
   ]
  },
  {
   "cell_type": "markdown",
   "id": "9c357e59",
   "metadata": {},
   "source": [
    "## 4. ANN"
   ]
  },
  {
   "cell_type": "code",
   "execution_count": 32,
   "id": "f18203db",
   "metadata": {},
   "outputs": [
    {
     "name": "stdout",
     "output_type": "stream",
     "text": [
      "Accuracy of Deep Learning model: 86.1586%\n"
     ]
    }
   ],
   "source": [
    "# Split your data into a training and a validation set\n",
    "X_train_sub, X_val, Y_train_sub, Y_val = train_test_split(X_train_transformed, Y_train, test_size=0.2, random_state=42)\n",
    "\n",
    "# Create the MLPClassifier with early stopping\n",
    "DeepLearning_model = MLPClassifier(\n",
    "    solver='adam', \n",
    "    hidden_layer_sizes=(150, 100, 50),  # Example: Three hidden layers\n",
    "    activation='relu', \n",
    "    random_state=42,\n",
    "    early_stopping=True, \n",
    "    validation_fraction=0.1,  # Fraction of training data to use as validation\n",
    "    n_iter_no_change=10       # Stop training if validation score is not improving for 10 consecutive epochs\n",
    ")\n",
    "\n",
    "# Training\n",
    "DeepLearning_model.fit(X_train_transformed, Y_train)\n",
    "\n",
    "# Evaluation on the validation set\n",
    "y_pred_val = DeepLearning_model.predict(X_test_transformed)\n",
    "accuracy_dl_best = accuracy_score(Y_test, y_pred_val)\n",
    "print(\"Accuracy of Deep Learning model: {:.4f}%\".format(accuracy_dl_best * 100))\n"
   ]
  },
  {
   "cell_type": "markdown",
   "id": "a3b96a0c",
   "metadata": {},
   "source": [
    "## 5. Decision Tree"
   ]
  },
  {
   "cell_type": "code",
   "execution_count": 31,
   "id": "cd94cdc5",
   "metadata": {},
   "outputs": [
    {
     "name": "stdout",
     "output_type": "stream",
     "text": [
      "Decision Tree Model Accuracy: 80.0933%\n",
      "[0.26582278 0.73417722]\n"
     ]
    }
   ],
   "source": [
    "DecisionTree_model = DecisionTreeClassifier(min_samples_leaf=15,random_state=0) ## number of trees and number of layers/depth\n",
    "\n",
    "#training\n",
    "DecisionTree_model.fit(X_train_transformed, Y_train)\n",
    "y_pred_DecisionTree = DecisionTree_model.predict(X_test_transformed)\n",
    "\n",
    "#evaluation\n",
    "accuracy_dt_best = accuracy_score(Y_test, y_pred_DecisionTree)\n",
    "print(\"Decision Tree Model Accuracy: {:.4f}%\".format(accuracy_dt_best*100))\n",
    "\n",
    "y_pred_prob_dt_model = DecisionTree_model.predict_proba(X_test_transformed)\n",
    "print(y_pred_prob_dt_model[0])"
   ]
  },
  {
   "cell_type": "markdown",
   "id": "ef258c89",
   "metadata": {},
   "source": [
    "# 6. Random Forest"
   ]
  },
  {
   "cell_type": "code",
   "execution_count": 33,
   "id": "507f073d",
   "metadata": {
    "scrolled": true
   },
   "outputs": [
    {
     "name": "stderr",
     "output_type": "stream",
     "text": [
      "[I 2024-01-16 15:05:17,822] A new study created in memory with name: no-name-7ad26c4d-f1bb-4b4e-9c0e-c8f3605353ec\n",
      "[I 2024-01-16 15:05:21,602] Trial 0 finished with value: 0.8289269051321928 and parameters: {'n_estimators': 366, 'max_depth': 24, 'bootstrap': False}. Best is trial 0 with value: 0.8289269051321928.\n",
      "[I 2024-01-16 15:05:26,001] Trial 1 finished with value: 0.8320373250388803 and parameters: {'n_estimators': 453, 'max_depth': 26, 'bootstrap': False}. Best is trial 1 with value: 0.8320373250388803.\n",
      "[I 2024-01-16 15:05:27,906] Trial 2 finished with value: 0.807153965785381 and parameters: {'n_estimators': 168, 'max_depth': 20, 'bootstrap': True}. Best is trial 1 with value: 0.8320373250388803.\n",
      "[I 2024-01-16 15:05:30,515] Trial 3 finished with value: 0.8195956454121306 and parameters: {'n_estimators': 276, 'max_depth': 21, 'bootstrap': False}. Best is trial 1 with value: 0.8320373250388803.\n",
      "[I 2024-01-16 15:05:32,002] Trial 4 finished with value: 0.8195956454121306 and parameters: {'n_estimators': 147, 'max_depth': 21, 'bootstrap': False}. Best is trial 1 with value: 0.8320373250388803.\n",
      "[I 2024-01-16 15:05:34,712] Trial 5 finished with value: 0.7060653188180405 and parameters: {'n_estimators': 333, 'max_depth': 10, 'bootstrap': False}. Best is trial 1 with value: 0.8320373250388803.\n",
      "[I 2024-01-16 15:05:35,722] Trial 6 finished with value: 0.7620528771384136 and parameters: {'n_estimators': 105, 'max_depth': 14, 'bootstrap': False}. Best is trial 1 with value: 0.8320373250388803.\n",
      "[I 2024-01-16 15:05:40,522] Trial 7 finished with value: 0.7978227060653188 and parameters: {'n_estimators': 454, 'max_depth': 18, 'bootstrap': True}. Best is trial 1 with value: 0.8320373250388803.\n",
      "[I 2024-01-16 15:05:42,901] Trial 8 finished with value: 0.7822706065318819 and parameters: {'n_estimators': 211, 'max_depth': 19, 'bootstrap': True}. Best is trial 1 with value: 0.8320373250388803.\n",
      "[I 2024-01-16 15:05:45,122] Trial 9 finished with value: 0.7511664074650077 and parameters: {'n_estimators': 236, 'max_depth': 13, 'bootstrap': True}. Best is trial 1 with value: 0.8320373250388803.\n",
      "[I 2024-01-16 15:05:50,004] Trial 10 finished with value: 0.8304821150855366 and parameters: {'n_estimators': 482, 'max_depth': 30, 'bootstrap': False}. Best is trial 1 with value: 0.8320373250388803.\n",
      "[I 2024-01-16 15:05:55,102] Trial 11 finished with value: 0.8320373250388803 and parameters: {'n_estimators': 500, 'max_depth': 30, 'bootstrap': False}. Best is trial 1 with value: 0.8320373250388803.\n",
      "[I 2024-01-16 15:05:59,602] Trial 12 finished with value: 0.8320373250388803 and parameters: {'n_estimators': 413, 'max_depth': 30, 'bootstrap': False}. Best is trial 1 with value: 0.8320373250388803.\n",
      "[I 2024-01-16 15:06:04,504] Trial 13 finished with value: 0.8320373250388803 and parameters: {'n_estimators': 499, 'max_depth': 26, 'bootstrap': False}. Best is trial 1 with value: 0.8320373250388803.\n",
      "[I 2024-01-16 15:06:08,513] Trial 14 finished with value: 0.8289269051321928 and parameters: {'n_estimators': 416, 'max_depth': 27, 'bootstrap': False}. Best is trial 1 with value: 0.8320373250388803.\n",
      "[I 2024-01-16 15:06:12,405] Trial 15 finished with value: 0.8289269051321928 and parameters: {'n_estimators': 416, 'max_depth': 27, 'bootstrap': False}. Best is trial 1 with value: 0.8320373250388803.\n",
      "[I 2024-01-16 15:06:15,902] Trial 16 finished with value: 0.8273716951788491 and parameters: {'n_estimators': 338, 'max_depth': 24, 'bootstrap': False}. Best is trial 1 with value: 0.8320373250388803.\n",
      "[I 2024-01-16 15:06:20,501] Trial 17 finished with value: 0.8351477449455676 and parameters: {'n_estimators': 452, 'max_depth': 30, 'bootstrap': False}. Best is trial 17 with value: 0.8351477449455676.\n",
      "[I 2024-01-16 15:06:24,701] Trial 18 finished with value: 0.8087091757387247 and parameters: {'n_estimators': 383, 'max_depth': 25, 'bootstrap': True}. Best is trial 17 with value: 0.8351477449455676.\n",
      "[I 2024-01-16 15:06:29,114] Trial 19 finished with value: 0.8273716951788491 and parameters: {'n_estimators': 452, 'max_depth': 28, 'bootstrap': False}. Best is trial 17 with value: 0.8351477449455676.\n",
      "[I 2024-01-16 15:06:31,807] Trial 20 finished with value: 0.8289269051321928 and parameters: {'n_estimators': 279, 'max_depth': 23, 'bootstrap': False}. Best is trial 17 with value: 0.8351477449455676.\n",
      "[I 2024-01-16 15:06:36,504] Trial 21 finished with value: 0.8258164852255054 and parameters: {'n_estimators': 461, 'max_depth': 29, 'bootstrap': False}. Best is trial 17 with value: 0.8351477449455676.\n",
      "[I 2024-01-16 15:06:41,212] Trial 22 finished with value: 0.833592534992224 and parameters: {'n_estimators': 498, 'max_depth': 30, 'bootstrap': False}. Best is trial 17 with value: 0.8351477449455676.\n",
      "[I 2024-01-16 15:06:45,612] Trial 23 finished with value: 0.8289269051321928 and parameters: {'n_estimators': 445, 'max_depth': 28, 'bootstrap': False}. Best is trial 17 with value: 0.8351477449455676.\n",
      "[I 2024-01-16 15:06:49,418] Trial 24 finished with value: 0.833592534992224 and parameters: {'n_estimators': 384, 'max_depth': 26, 'bootstrap': False}. Best is trial 17 with value: 0.8351477449455676.\n",
      "[I 2024-01-16 15:06:53,412] Trial 25 finished with value: 0.8304821150855366 and parameters: {'n_estimators': 396, 'max_depth': 28, 'bootstrap': False}. Best is trial 17 with value: 0.8351477449455676.\n",
      "[I 2024-01-16 15:06:57,412] Trial 26 finished with value: 0.8242612752721618 and parameters: {'n_estimators': 353, 'max_depth': 30, 'bootstrap': True}. Best is trial 17 with value: 0.8351477449455676.\n",
      "[I 2024-01-16 15:07:00,415] Trial 27 finished with value: 0.8242612752721618 and parameters: {'n_estimators': 317, 'max_depth': 23, 'bootstrap': False}. Best is trial 17 with value: 0.8351477449455676.\n",
      "[I 2024-01-16 15:07:04,612] Trial 28 finished with value: 0.8351477449455676 and parameters: {'n_estimators': 428, 'max_depth': 26, 'bootstrap': False}. Best is trial 17 with value: 0.8351477449455676.\n",
      "[I 2024-01-16 15:07:09,013] Trial 29 finished with value: 0.8289269051321928 and parameters: {'n_estimators': 477, 'max_depth': 24, 'bootstrap': False}. Best is trial 17 with value: 0.8351477449455676.\n",
      "[I 2024-01-16 15:07:13,502] Trial 30 finished with value: 0.8289269051321928 and parameters: {'n_estimators': 430, 'max_depth': 28, 'bootstrap': False}. Best is trial 17 with value: 0.8351477449455676.\n",
      "[I 2024-01-16 15:07:17,412] Trial 31 finished with value: 0.8351477449455676 and parameters: {'n_estimators': 369, 'max_depth': 26, 'bootstrap': False}. Best is trial 17 with value: 0.8351477449455676.\n",
      "[I 2024-01-16 15:07:21,112] Trial 32 finished with value: 0.833592534992224 and parameters: {'n_estimators': 366, 'max_depth': 26, 'bootstrap': False}. Best is trial 17 with value: 0.8351477449455676.\n",
      "[I 2024-01-16 15:07:24,999] Trial 33 finished with value: 0.7900466562986003 and parameters: {'n_estimators': 434, 'max_depth': 17, 'bootstrap': False}. Best is trial 17 with value: 0.8351477449455676.\n",
      "[I 2024-01-16 15:07:29,513] Trial 34 finished with value: 0.8227060653188181 and parameters: {'n_estimators': 473, 'max_depth': 23, 'bootstrap': False}. Best is trial 17 with value: 0.8351477449455676.\n",
      "[I 2024-01-16 15:07:33,315] Trial 35 finished with value: 0.8258164852255054 and parameters: {'n_estimators': 396, 'max_depth': 29, 'bootstrap': False}. Best is trial 17 with value: 0.8351477449455676.\n",
      "[I 2024-01-16 15:07:37,001] Trial 36 finished with value: 0.8180404354587869 and parameters: {'n_estimators': 367, 'max_depth': 22, 'bootstrap': False}. Best is trial 17 with value: 0.8351477449455676.\n",
      "[I 2024-01-16 15:07:40,402] Trial 37 finished with value: 0.8133748055987559 and parameters: {'n_estimators': 302, 'max_depth': 25, 'bootstrap': True}. Best is trial 17 with value: 0.8351477449455676.\n",
      "[I 2024-01-16 15:07:44,722] Trial 38 finished with value: 0.8211508553654744 and parameters: {'n_estimators': 427, 'max_depth': 29, 'bootstrap': False}. Best is trial 17 with value: 0.8351477449455676.\n",
      "[I 2024-01-16 15:07:49,302] Trial 39 finished with value: 0.8133748055987559 and parameters: {'n_estimators': 475, 'max_depth': 21, 'bootstrap': False}. Best is trial 17 with value: 0.8351477449455676.\n",
      "[I 2024-01-16 15:07:53,899] Trial 40 finished with value: 0.8180404354587869 and parameters: {'n_estimators': 408, 'max_depth': 27, 'bootstrap': True}. Best is trial 17 with value: 0.8351477449455676.\n",
      "[I 2024-01-16 15:07:57,713] Trial 41 finished with value: 0.8258164852255054 and parameters: {'n_estimators': 374, 'max_depth': 25, 'bootstrap': False}. Best is trial 17 with value: 0.8351477449455676.\n",
      "[I 2024-01-16 15:08:01,612] Trial 42 finished with value: 0.833592534992224 and parameters: {'n_estimators': 393, 'max_depth': 26, 'bootstrap': False}. Best is trial 17 with value: 0.8351477449455676.\n",
      "[I 2024-01-16 15:08:05,113] Trial 43 finished with value: 0.8289269051321928 and parameters: {'n_estimators': 346, 'max_depth': 29, 'bootstrap': False}. Best is trial 17 with value: 0.8351477449455676.\n",
      "[I 2024-01-16 15:08:08,908] Trial 44 finished with value: 0.7853810264385692 and parameters: {'n_estimators': 443, 'max_depth': 16, 'bootstrap': False}. Best is trial 17 with value: 0.8351477449455676.\n",
      "[I 2024-01-16 15:08:13,513] Trial 45 finished with value: 0.807153965785381 and parameters: {'n_estimators': 500, 'max_depth': 20, 'bootstrap': False}. Best is trial 17 with value: 0.8351477449455676.\n",
      "[I 2024-01-16 15:08:19,601] Trial 46 finished with value: 0.8273716951788491 and parameters: {'n_estimators': 462, 'max_depth': 27, 'bootstrap': False}. Best is trial 17 with value: 0.8351477449455676.\n",
      "[I 2024-01-16 15:08:22,101] Trial 47 finished with value: 0.8289269051321928 and parameters: {'n_estimators': 243, 'max_depth': 24, 'bootstrap': False}. Best is trial 17 with value: 0.8351477449455676.\n",
      "[I 2024-01-16 15:08:25,402] Trial 48 finished with value: 0.7076205287713841 and parameters: {'n_estimators': 323, 'max_depth': 10, 'bootstrap': True}. Best is trial 17 with value: 0.8351477449455676.\n",
      "[I 2024-01-16 15:08:30,224] Trial 49 finished with value: 0.8320373250388803 and parameters: {'n_estimators': 487, 'max_depth': 30, 'bootstrap': False}. Best is trial 17 with value: 0.8351477449455676.\n",
      "[I 2024-01-16 15:08:32,112] Trial 50 finished with value: 0.8304821150855366 and parameters: {'n_estimators': 162, 'max_depth': 27, 'bootstrap': False}. Best is trial 17 with value: 0.8351477449455676.\n",
      "[I 2024-01-16 15:08:35,425] Trial 51 finished with value: 0.833592534992224 and parameters: {'n_estimators': 357, 'max_depth': 26, 'bootstrap': False}. Best is trial 17 with value: 0.8351477449455676.\n",
      "[I 2024-01-16 15:08:39,222] Trial 52 finished with value: 0.833592534992224 and parameters: {'n_estimators': 386, 'max_depth': 26, 'bootstrap': False}. Best is trial 17 with value: 0.8351477449455676.\n",
      "[I 2024-01-16 15:08:43,127] Trial 53 finished with value: 0.8258164852255054 and parameters: {'n_estimators': 411, 'max_depth': 25, 'bootstrap': False}. Best is trial 17 with value: 0.8351477449455676.\n",
      "[I 2024-01-16 15:08:46,912] Trial 54 finished with value: 0.8195956454121306 and parameters: {'n_estimators': 379, 'max_depth': 22, 'bootstrap': False}. Best is trial 17 with value: 0.8351477449455676.\n",
      "[I 2024-01-16 15:08:50,613] Trial 55 finished with value: 0.7433903576982893 and parameters: {'n_estimators': 429, 'max_depth': 12, 'bootstrap': False}. Best is trial 17 with value: 0.8351477449455676.\n",
      "[I 2024-01-16 15:08:53,712] Trial 56 finished with value: 0.8289269051321928 and parameters: {'n_estimators': 363, 'max_depth': 28, 'bootstrap': False}. Best is trial 17 with value: 0.8351477449455676.\n",
      "[I 2024-01-16 15:08:58,413] Trial 57 finished with value: 0.8273716951788491 and parameters: {'n_estimators': 456, 'max_depth': 29, 'bootstrap': False}. Best is trial 17 with value: 0.8351477449455676.\n",
      "[I 2024-01-16 15:09:01,913] Trial 58 finished with value: 0.8164852255054432 and parameters: {'n_estimators': 329, 'max_depth': 26, 'bootstrap': True}. Best is trial 17 with value: 0.8351477449455676.\n",
      "[I 2024-01-16 15:09:05,202] Trial 59 finished with value: 0.8351477449455676 and parameters: {'n_estimators': 307, 'max_depth': 30, 'bootstrap': False}. Best is trial 17 with value: 0.8351477449455676.\n",
      "[I 2024-01-16 15:09:07,811] Trial 60 finished with value: 0.8304821150855366 and parameters: {'n_estimators': 251, 'max_depth': 30, 'bootstrap': False}. Best is trial 17 with value: 0.8351477449455676.\n",
      "[I 2024-01-16 15:09:10,712] Trial 61 finished with value: 0.8273716951788491 and parameters: {'n_estimators': 291, 'max_depth': 28, 'bootstrap': False}. Best is trial 17 with value: 0.8351477449455676.\n",
      "[I 2024-01-16 15:09:13,814] Trial 62 finished with value: 0.8320373250388803 and parameters: {'n_estimators': 305, 'max_depth': 30, 'bootstrap': False}. Best is trial 17 with value: 0.8351477449455676.\n",
      "[I 2024-01-16 15:09:15,838] Trial 63 finished with value: 0.8273716951788491 and parameters: {'n_estimators': 404, 'max_depth': 29, 'bootstrap': False}. Best is trial 17 with value: 0.8351477449455676.\n",
      "[I 2024-01-16 15:09:16,383] Trial 64 finished with value: 0.833592534992224 and parameters: {'n_estimators': 205, 'max_depth': 27, 'bootstrap': False}. Best is trial 17 with value: 0.8351477449455676.\n",
      "[I 2024-01-16 15:09:17,641] Trial 65 finished with value: 0.833592534992224 and parameters: {'n_estimators': 442, 'max_depth': 30, 'bootstrap': False}. Best is trial 17 with value: 0.8351477449455676.\n",
      "[I 2024-01-16 15:09:18,523] Trial 66 finished with value: 0.8273716951788491 and parameters: {'n_estimators': 345, 'max_depth': 25, 'bootstrap': False}. Best is trial 17 with value: 0.8351477449455676.\n",
      "[I 2024-01-16 15:09:19,853] Trial 67 finished with value: 0.8258164852255054 and parameters: {'n_estimators': 487, 'max_depth': 28, 'bootstrap': False}. Best is trial 17 with value: 0.8351477449455676.\n",
      "[I 2024-01-16 15:09:20,546] Trial 68 finished with value: 0.8242612752721618 and parameters: {'n_estimators': 259, 'max_depth': 27, 'bootstrap': False}. Best is trial 17 with value: 0.8351477449455676.\n",
      "[I 2024-01-16 15:09:20,848] Trial 69 finished with value: 0.8055987558320373 and parameters: {'n_estimators': 111, 'max_depth': 24, 'bootstrap': True}. Best is trial 17 with value: 0.8351477449455676.\n",
      "[I 2024-01-16 15:09:22,031] Trial 70 finished with value: 0.8227060653188181 and parameters: {'n_estimators': 419, 'max_depth': 29, 'bootstrap': False}. Best is trial 17 with value: 0.8351477449455676.\n",
      "[I 2024-01-16 15:09:23,065] Trial 71 finished with value: 0.8351477449455676 and parameters: {'n_estimators': 394, 'max_depth': 26, 'bootstrap': False}. Best is trial 17 with value: 0.8351477449455676.\n",
      "[I 2024-01-16 15:09:23,975] Trial 72 finished with value: 0.8242612752721618 and parameters: {'n_estimators': 370, 'max_depth': 23, 'bootstrap': False}. Best is trial 17 with value: 0.8351477449455676.\n",
      "[I 2024-01-16 15:09:25,165] Trial 73 finished with value: 0.8320373250388803 and parameters: {'n_estimators': 468, 'max_depth': 26, 'bootstrap': False}. Best is trial 17 with value: 0.8351477449455676.\n",
      "[I 2024-01-16 15:09:26,134] Trial 74 finished with value: 0.8304821150855366 and parameters: {'n_estimators': 339, 'max_depth': 28, 'bootstrap': False}. Best is trial 17 with value: 0.8351477449455676.\n",
      "[I 2024-01-16 15:09:27,188] Trial 75 finished with value: 0.8273716951788491 and parameters: {'n_estimators': 399, 'max_depth': 25, 'bootstrap': False}. Best is trial 17 with value: 0.8351477449455676.\n",
      "[I 2024-01-16 15:09:28,134] Trial 76 finished with value: 0.8273716951788491 and parameters: {'n_estimators': 381, 'max_depth': 24, 'bootstrap': False}. Best is trial 17 with value: 0.8351477449455676.\n",
      "[I 2024-01-16 15:09:29,054] Trial 77 finished with value: 0.8180404354587869 and parameters: {'n_estimators': 388, 'max_depth': 22, 'bootstrap': False}. Best is trial 17 with value: 0.8351477449455676.\n",
      "[I 2024-01-16 15:09:30,177] Trial 78 finished with value: 0.8304821150855366 and parameters: {'n_estimators': 420, 'max_depth': 27, 'bootstrap': False}. Best is trial 17 with value: 0.8351477449455676.\n",
      "[I 2024-01-16 15:09:31,056] Trial 79 finished with value: 0.8273716951788491 and parameters: {'n_estimators': 310, 'max_depth': 29, 'bootstrap': False}. Best is trial 17 with value: 0.8351477449455676.\n",
      "[I 2024-01-16 15:09:32,255] Trial 80 finished with value: 0.8289269051321928 and parameters: {'n_estimators': 439, 'max_depth': 28, 'bootstrap': False}. Best is trial 17 with value: 0.8351477449455676.\n",
      "[I 2024-01-16 15:09:33,277] Trial 81 finished with value: 0.833592534992224 and parameters: {'n_estimators': 392, 'max_depth': 26, 'bootstrap': False}. Best is trial 17 with value: 0.8351477449455676.\n",
      "[I 2024-01-16 15:09:34,213] Trial 82 finished with value: 0.833592534992224 and parameters: {'n_estimators': 355, 'max_depth': 26, 'bootstrap': False}. Best is trial 17 with value: 0.8351477449455676.\n",
      "[I 2024-01-16 15:09:35,219] Trial 83 finished with value: 0.8009331259720062 and parameters: {'n_estimators': 451, 'max_depth': 19, 'bootstrap': False}. Best is trial 17 with value: 0.8351477449455676.\n",
      "[I 2024-01-16 15:09:36,235] Trial 84 finished with value: 0.8273716951788491 and parameters: {'n_estimators': 403, 'max_depth': 25, 'bootstrap': False}. Best is trial 17 with value: 0.8351477449455676.\n",
      "[I 2024-01-16 15:09:37,376] Trial 85 finished with value: 0.8304821150855366 and parameters: {'n_estimators': 425, 'max_depth': 27, 'bootstrap': False}. Best is trial 17 with value: 0.8351477449455676.\n",
      "[I 2024-01-16 15:09:38,415] Trial 86 finished with value: 0.8258164852255054 and parameters: {'n_estimators': 375, 'max_depth': 30, 'bootstrap': True}. Best is trial 17 with value: 0.8351477449455676.\n",
      "[I 2024-01-16 15:09:39,365] Trial 87 finished with value: 0.833592534992224 and parameters: {'n_estimators': 363, 'max_depth': 26, 'bootstrap': False}. Best is trial 17 with value: 0.8351477449455676.\n",
      "[I 2024-01-16 15:09:40,355] Trial 88 finished with value: 0.8273716951788491 and parameters: {'n_estimators': 394, 'max_depth': 24, 'bootstrap': False}. Best is trial 17 with value: 0.8351477449455676.\n",
      "[I 2024-01-16 15:09:41,527] Trial 89 finished with value: 0.8227060653188181 and parameters: {'n_estimators': 411, 'max_depth': 29, 'bootstrap': False}. Best is trial 17 with value: 0.8351477449455676.\n",
      "[I 2024-01-16 15:09:42,273] Trial 90 finished with value: 0.8258164852255054 and parameters: {'n_estimators': 277, 'max_depth': 27, 'bootstrap': False}. Best is trial 17 with value: 0.8351477449455676.\n",
      "[I 2024-01-16 15:09:43,224] Trial 91 finished with value: 0.833592534992224 and parameters: {'n_estimators': 356, 'max_depth': 26, 'bootstrap': False}. Best is trial 17 with value: 0.8351477449455676.\n",
      "[I 2024-01-16 15:09:44,034] Trial 92 finished with value: 0.8273716951788491 and parameters: {'n_estimators': 328, 'max_depth': 25, 'bootstrap': False}. Best is trial 17 with value: 0.8351477449455676.\n",
      "[I 2024-01-16 15:09:44,945] Trial 93 finished with value: 0.8242612752721618 and parameters: {'n_estimators': 364, 'max_depth': 23, 'bootstrap': False}. Best is trial 17 with value: 0.8351477449455676.\n",
      "[I 2024-01-16 15:09:45,902] Trial 94 finished with value: 0.8289269051321928 and parameters: {'n_estimators': 346, 'max_depth': 28, 'bootstrap': False}. Best is trial 17 with value: 0.8351477449455676.\n",
      "[I 2024-01-16 15:09:46,469] Trial 95 finished with value: 0.7698289269051322 and parameters: {'n_estimators': 291, 'max_depth': 15, 'bootstrap': False}. Best is trial 17 with value: 0.8351477449455676.\n",
      "[I 2024-01-16 15:09:47,303] Trial 96 finished with value: 0.833592534992224 and parameters: {'n_estimators': 318, 'max_depth': 26, 'bootstrap': False}. Best is trial 17 with value: 0.8351477449455676.\n",
      "[I 2024-01-16 15:09:48,588] Trial 97 finished with value: 0.8273716951788491 and parameters: {'n_estimators': 491, 'max_depth': 25, 'bootstrap': False}. Best is trial 17 with value: 0.8351477449455676.\n",
      "[I 2024-01-16 15:09:49,655] Trial 98 finished with value: 0.8258164852255054 and parameters: {'n_estimators': 385, 'max_depth': 30, 'bootstrap': True}. Best is trial 17 with value: 0.8351477449455676.\n",
      "[I 2024-01-16 15:09:50,291] Trial 99 finished with value: 0.8320373250388803 and parameters: {'n_estimators': 220, 'max_depth': 26, 'bootstrap': False}. Best is trial 17 with value: 0.8351477449455676.\n"
     ]
    },
    {
     "name": "stdout",
     "output_type": "stream",
     "text": [
      "Best parameters: {'n_estimators': 452, 'max_depth': 30, 'bootstrap': False}\n",
      "Random Forest Model Accuracy: 83.5148%\n",
      "[0.39902015 0.60097985]\n"
     ]
    }
   ],
   "source": [
    "def objective(trial):\n",
    "    # Define the hyperparameter configuration space\n",
    "    n_estimators = trial.suggest_int('n_estimators', 100, 500)\n",
    "    max_depth = trial.suggest_int('max_depth', 10, 30)\n",
    "    bootstrap = trial.suggest_categorical('bootstrap', [True, False])\n",
    "\n",
    "    # Define a pipeline with preprocessing and model\n",
    "    pipeline = Pipeline([\n",
    "        ('rf', RandomForestClassifier(n_estimators=n_estimators, \n",
    "                                      max_depth=max_depth, \n",
    "                                      bootstrap=bootstrap, \n",
    "                                      n_jobs=-1, \n",
    "                                      random_state=0))\n",
    "    ])\n",
    "\n",
    "    # Train the model\n",
    "    pipeline.fit(X_train_transformed, Y_train)\n",
    "\n",
    "    # Make predictions and evaluate the model\n",
    "    y_pred = pipeline.predict(X_test_transformed)\n",
    "    accuracy = accuracy_score(Y_test, y_pred)\n",
    "    return accuracy\n",
    "\n",
    "# Create a study object and optimize the objective function\n",
    "study = optuna.create_study(direction='maximize')\n",
    "study.optimize(objective, n_trials=100)\n",
    "\n",
    "# Best model after optimization\n",
    "best_params = study.best_params\n",
    "print(\"Best parameters:\", best_params)\n",
    "\n",
    "# Train the best model\n",
    "best_model = RandomForestClassifier(**best_params, random_state=0)\n",
    "best_model.fit(X_train_transformed, Y_train)\n",
    "\n",
    "# Prediction and evaluation\n",
    "y_pred = best_model.predict(X_test_transformed)\n",
    "accuracy_rf_best = accuracy_score(Y_test, y_pred)\n",
    "print(\"Random Forest Model Accuracy: {:.4f}%\".format(accuracy_rf_best * 100))\n",
    "\n",
    "# Probability prediction (if needed)\n",
    "y_pred_prob = best_model.predict_proba(X_test_transformed)\n",
    "print(y_pred_prob[0])\n",
    "\n",
    "# Optional: Feature Importance Analysis\n",
    "importances = best_model.feature_importances_"
   ]
  },
  {
   "cell_type": "markdown",
   "id": "e91ad679",
   "metadata": {},
   "source": [
    "## 7. LIGHT GBM"
   ]
  },
  {
   "cell_type": "code",
   "execution_count": 34,
   "id": "9827b8c3",
   "metadata": {
    "scrolled": true
   },
   "outputs": [
    {
     "name": "stderr",
     "output_type": "stream",
     "text": [
      "[I 2024-01-16 15:13:21,018] A new study created in memory with name: no-name-e9bf0424-9f8f-4614-bf69-3285a94198a2\n",
      "[I 2024-01-16 15:14:58,601] Trial 0 finished with value: 0.7947122861586314 and parameters: {'learning_rate': 0.26891454990758956, 'num_leaves': 127, 'max_depth': 42, 'min_child_samples': 41, 'max_bin': 377, 'subsample': 0.9654488752309527, 'subsample_freq': 3, 'colsample_bytree': 0.8653228059716056, 'reg_alpha': 2.1862041873571586e-06, 'reg_lambda': 5.276737425101657e-07}. Best is trial 0 with value: 0.7947122861586314.\n",
      "[I 2024-01-16 15:15:26,611] Trial 1 finished with value: 0.7045101088646968 and parameters: {'learning_rate': 0.14568593347019781, 'num_leaves': 230, 'max_depth': 35, 'min_child_samples': 90, 'max_bin': 390, 'subsample': 0.776878619453065, 'subsample_freq': 1, 'colsample_bytree': 0.86493199787231, 'reg_alpha': 0.007721041021286693, 'reg_lambda': 1.8202263018095844e-08}. Best is trial 0 with value: 0.7947122861586314.\n",
      "[I 2024-01-16 15:16:31,022] Trial 2 finished with value: 0.7853810264385692 and parameters: {'learning_rate': 0.2103912318359544, 'num_leaves': 115, 'max_depth': 45, 'min_child_samples': 36, 'max_bin': 297, 'subsample': 0.507258886093552, 'subsample_freq': 2, 'colsample_bytree': 0.9250611054845008, 'reg_alpha': 1.0778576134619261e-05, 'reg_lambda': 0.049460973530811185}. Best is trial 0 with value: 0.7947122861586314.\n",
      "[I 2024-01-16 15:17:06,015] Trial 3 finished with value: 0.6687402799377916 and parameters: {'learning_rate': 0.1240526346152511, 'num_leaves': 195, 'max_depth': 49, 'min_child_samples': 76, 'max_bin': 204, 'subsample': 0.6108072669626415, 'subsample_freq': 3, 'colsample_bytree': 0.7907007971901636, 'reg_alpha': 3.711692825931107e-05, 'reg_lambda': 5.957680074892728e-07}. Best is trial 0 with value: 0.7947122861586314.\n",
      "[I 2024-01-16 15:17:44,518] Trial 4 finished with value: 0.8040435458786936 and parameters: {'learning_rate': 0.0717568101767699, 'num_leaves': 87, 'max_depth': 20, 'min_child_samples': 50, 'max_bin': 294, 'subsample': 0.7663518005375447, 'subsample_freq': 6, 'colsample_bytree': 0.6445814419953895, 'reg_alpha': 5.207230839010412, 'reg_lambda': 0.004479018339699049}. Best is trial 4 with value: 0.8040435458786936.\n",
      "[I 2024-01-16 15:18:15,223] Trial 5 finished with value: 0.8009331259720062 and parameters: {'learning_rate': 0.2510826160566293, 'num_leaves': 164, 'max_depth': 39, 'min_child_samples': 73, 'max_bin': 221, 'subsample': 0.8435260211017275, 'subsample_freq': 0, 'colsample_bytree': 0.6408553426312088, 'reg_alpha': 0.05700047773250926, 'reg_lambda': 0.29606280702211135}. Best is trial 4 with value: 0.8040435458786936.\n",
      "[I 2024-01-16 15:19:14,007] Trial 6 finished with value: 0.8040435458786936 and parameters: {'learning_rate': 0.13567186647816915, 'num_leaves': 51, 'max_depth': 35, 'min_child_samples': 39, 'max_bin': 231, 'subsample': 0.9417236127434647, 'subsample_freq': 0, 'colsample_bytree': 0.4398227016509264, 'reg_alpha': 0.01775437208681604, 'reg_lambda': 0.07725897581863111}. Best is trial 4 with value: 0.8040435458786936.\n",
      "[I 2024-01-16 15:19:46,621] Trial 7 finished with value: 0.8040435458786936 and parameters: {'learning_rate': 0.2205439251529772, 'num_leaves': 51, 'max_depth': 9, 'min_child_samples': 38, 'max_bin': 394, 'subsample': 0.9417216477991053, 'subsample_freq': 0, 'colsample_bytree': 0.5716689204781843, 'reg_alpha': 0.7913767168490912, 'reg_lambda': 0.0015390052311363908}. Best is trial 4 with value: 0.8040435458786936.\n",
      "[I 2024-01-16 15:20:32,917] Trial 8 finished with value: 0.7869362363919129 and parameters: {'learning_rate': 0.03717184940184733, 'num_leaves': 175, 'max_depth': 29, 'min_child_samples': 62, 'max_bin': 265, 'subsample': 0.853164132001946, 'subsample_freq': 7, 'colsample_bytree': 0.7357912013528021, 'reg_alpha': 6.210326669337955e-07, 'reg_lambda': 3.854906987860189e-06}. Best is trial 4 with value: 0.8040435458786936.\n",
      "[I 2024-01-16 15:20:50,126] Trial 9 finished with value: 0.8040435458786936 and parameters: {'learning_rate': 0.2742956404306773, 'num_leaves': 41, 'max_depth': 2, 'min_child_samples': 48, 'max_bin': 224, 'subsample': 0.48975156240651824, 'subsample_freq': 0, 'colsample_bytree': 0.48641067341071975, 'reg_alpha': 5.12442979895996e-07, 'reg_lambda': 6.378816048540044e-08}. Best is trial 4 with value: 0.8040435458786936.\n",
      "[I 2024-01-16 15:24:55,012] Trial 10 finished with value: 0.8149300155520995 and parameters: {'learning_rate': 0.014347059017899844, 'num_leaves': 289, 'max_depth': 17, 'min_child_samples': 8, 'max_bin': 336, 'subsample': 0.6622550951873325, 'subsample_freq': 6, 'colsample_bytree': 0.6316446870941946, 'reg_alpha': 1.6341001194578282e-08, 'reg_lambda': 0.0001667358714197129}. Best is trial 10 with value: 0.8149300155520995.\n",
      "[I 2024-01-16 15:26:30,537] Trial 11 finished with value: 0.7744945567651633 and parameters: {'learning_rate': 0.010637713901015942, 'num_leaves': 300, 'max_depth': 17, 'min_child_samples': 6, 'max_bin': 337, 'subsample': 0.6603872069700769, 'subsample_freq': 6, 'colsample_bytree': 0.6235713705761953, 'reg_alpha': 9.325106892566447, 'reg_lambda': 0.00011113588492524888}. Best is trial 10 with value: 0.8149300155520995.\n",
      "[I 2024-01-16 15:29:45,430] Trial 12 finished with value: 0.8367029548989113 and parameters: {'learning_rate': 0.06891083355029545, 'num_leaves': 299, 'max_depth': 19, 'min_child_samples': 7, 'max_bin': 322, 'subsample': 0.7358986913144543, 'subsample_freq': 5, 'colsample_bytree': 0.5284108134599362, 'reg_alpha': 2.011537143307604e-08, 'reg_lambda': 7.124258588977338}. Best is trial 12 with value: 0.8367029548989113.\n",
      "[I 2024-01-16 15:31:38,226] Trial 13 finished with value: 0.8087091757387247 and parameters: {'learning_rate': 0.08264748067856205, 'num_leaves': 279, 'max_depth': 14, 'min_child_samples': 15, 'max_bin': 347, 'subsample': 0.5924294519022608, 'subsample_freq': 5, 'colsample_bytree': 0.5287391331836834, 'reg_alpha': 1.165171824347984e-08, 'reg_lambda': 7.725826608856993}. Best is trial 12 with value: 0.8367029548989113.\n",
      "[I 2024-01-16 15:32:45,626] Trial 14 finished with value: 0.8102643856920684 and parameters: {'learning_rate': 0.07899704933934117, 'num_leaves': 252, 'max_depth': 24, 'min_child_samples': 21, 'max_bin': 333, 'subsample': 0.40247385913648964, 'subsample_freq': 5, 'colsample_bytree': 0.7007680068516393, 'reg_alpha': 1.1184956089920374e-08, 'reg_lambda': 7.440976587145707}. Best is trial 12 with value: 0.8367029548989113.\n",
      "[I 2024-01-16 15:34:25,113] Trial 15 finished with value: 0.7651632970451011 and parameters: {'learning_rate': 0.010319629459783347, 'num_leaves': 223, 'max_depth': 9, 'min_child_samples': 24, 'max_bin': 359, 'subsample': 0.7390727314935833, 'subsample_freq': 4, 'colsample_bytree': 0.4284626091396556, 'reg_alpha': 1.1523377216024842e-07, 'reg_lambda': 3.439346358259238e-05}. Best is trial 12 with value: 0.8367029548989113.\n",
      "[I 2024-01-16 15:44:47,811] Trial 16 finished with value: 0.8367029548989113 and parameters: {'learning_rate': 0.0553631449634324, 'num_leaves': 269, 'max_depth': -1, 'min_child_samples': 5, 'max_bin': 316, 'subsample': 0.6472150282126006, 'subsample_freq': 7, 'colsample_bytree': 0.5727994173672106, 'reg_alpha': 0.00026639959323930757, 'reg_lambda': 0.0011496225363182649}. Best is trial 12 with value: 0.8367029548989113.\n",
      "[I 2024-01-16 15:45:47,108] Trial 17 finished with value: 0.807153965785381 and parameters: {'learning_rate': 0.10330120559675798, 'num_leaves': 255, 'max_depth': -1, 'min_child_samples': 27, 'max_bin': 274, 'subsample': 0.584996877260557, 'subsample_freq': 7, 'colsample_bytree': 0.548487196759581, 'reg_alpha': 0.0005095922443995146, 'reg_lambda': 1.0953492791374626}. Best is trial 12 with value: 0.8367029548989113.\n",
      "[I 2024-01-16 15:47:04,921] Trial 18 finished with value: 0.8242612752721618 and parameters: {'learning_rate': 0.05206611652218984, 'num_leaves': 209, 'max_depth': 5, 'min_child_samples': 14, 'max_bin': 316, 'subsample': 0.8465248187728136, 'subsample_freq': 5, 'colsample_bytree': 0.49000479881277503, 'reg_alpha': 0.00011168684274102543, 'reg_lambda': 0.013958072032971187}. Best is trial 12 with value: 0.8367029548989113.\n",
      "[I 2024-01-16 15:51:58,503] Trial 19 finished with value: 0.8289269051321928 and parameters: {'learning_rate': 0.1098553168560122, 'num_leaves': 263, 'max_depth': 28, 'min_child_samples': 6, 'max_bin': 263, 'subsample': 0.716543063225156, 'subsample_freq': 7, 'colsample_bytree': 0.5840194361598852, 'reg_alpha': 0.0006900153806881402, 'reg_lambda': 0.001822178748735144}. Best is trial 12 with value: 0.8367029548989113.\n",
      "[I 2024-01-16 15:52:57,130] Trial 20 finished with value: 0.8133748055987559 and parameters: {'learning_rate': 0.17650572139358012, 'num_leaves': 240, 'max_depth': 10, 'min_child_samples': 23, 'max_bin': 308, 'subsample': 0.5266884166158052, 'subsample_freq': 4, 'colsample_bytree': 0.40658482343970875, 'reg_alpha': 0.0024738069027065786, 'reg_lambda': 1.2724064461983898e-05}. Best is trial 12 with value: 0.8367029548989113.\n",
      "[I 2024-01-16 15:58:29,234] Trial 21 finished with value: 0.8320373250388803 and parameters: {'learning_rate': 0.10693775276159685, 'num_leaves': 267, 'max_depth': 27, 'min_child_samples': 6, 'max_bin': 266, 'subsample': 0.6997490532704025, 'subsample_freq': 7, 'colsample_bytree': 0.5742474295553489, 'reg_alpha': 0.0004302623451865976, 'reg_lambda': 0.0007668571243145045}. Best is trial 12 with value: 0.8367029548989113.\n",
      "[I 2024-01-16 16:01:00,422] Trial 22 finished with value: 0.8149300155520995 and parameters: {'learning_rate': 0.05596972659724211, 'num_leaves': 270, 'max_depth': 24, 'min_child_samples': 15, 'max_bin': 282, 'subsample': 0.6762375743344252, 'subsample_freq': 6, 'colsample_bytree': 0.49708777103352464, 'reg_alpha': 1.2859743719370062e-05, 'reg_lambda': 0.0006100798293778893}. Best is trial 12 with value: 0.8367029548989113.\n",
      "[I 2024-01-16 16:05:47,628] Trial 23 finished with value: 0.8273716951788491 and parameters: {'learning_rate': 0.1694244318280242, 'num_leaves': 298, 'max_depth': 31, 'min_child_samples': 5, 'max_bin': 254, 'subsample': 0.7983264865973215, 'subsample_freq': 7, 'colsample_bytree': 0.5959073528635853, 'reg_alpha': 0.16513990612805154, 'reg_lambda': 0.008957157838122154}. Best is trial 12 with value: 0.8367029548989113.\n",
      "[I 2024-01-16 16:05:48,926] Trial 24 finished with value: 0.8009331259720062 and parameters: {'learning_rate': 0.0961465841862871, 'num_leaves': 191, 'max_depth': 21, 'min_child_samples': 30, 'max_bin': 320, 'subsample': 0.7060916255612971, 'subsample_freq': 5, 'colsample_bytree': 0.6924520862397335, 'reg_alpha': 0.002076593054215556, 'reg_lambda': 0.7157745914440247}. Best is trial 12 with value: 0.8367029548989113.\n",
      "[I 2024-01-16 16:05:50,821] Trial 25 finished with value: 0.8258164852255054 and parameters: {'learning_rate': 0.05444687230308828, 'num_leaves': 273, 'max_depth': 13, 'min_child_samples': 15, 'max_bin': 361, 'subsample': 0.6469813496435497, 'subsample_freq': 6, 'colsample_bytree': 0.509213316557323, 'reg_alpha': 0.00011925868441814034, 'reg_lambda': 0.06641303093770042}. Best is trial 12 with value: 0.8367029548989113.\n",
      "[I 2024-01-16 16:05:51,712] Trial 26 finished with value: 0.8133748055987559 and parameters: {'learning_rate': 0.1193650081464845, 'num_leaves': 237, 'max_depth': 5, 'min_child_samples': 18, 'max_bin': 246, 'subsample': 0.5666864613086265, 'subsample_freq': 7, 'colsample_bytree': 0.4544937999170764, 'reg_alpha': 6.301521142533267e-06, 'reg_lambda': 0.0004511435580657879}. Best is trial 12 with value: 0.8367029548989113.\n",
      "[I 2024-01-16 16:05:52,301] Trial 27 finished with value: 0.7729393468118196 and parameters: {'learning_rate': 0.09157651754078666, 'num_leaves': 211, 'max_depth': 35, 'min_child_samples': 59, 'max_bin': 287, 'subsample': 0.6296577096738598, 'subsample_freq': 4, 'colsample_bytree': 0.6920789734705066, 'reg_alpha': 2.3214000344155017e-07, 'reg_lambda': 4.59498023948609e-06}. Best is trial 12 with value: 0.8367029548989113.\n",
      "[I 2024-01-16 16:05:53,209] Trial 28 finished with value: 0.7993779160186625 and parameters: {'learning_rate': 0.0361348236345897, 'num_leaves': 147, 'max_depth': -1, 'min_child_samples': 32, 'max_bin': 316, 'subsample': 0.7350882544888014, 'subsample_freq': 6, 'colsample_bytree': 0.5524624493550863, 'reg_alpha': 6.4127504281182e-08, 'reg_lambda': 1.5133521576675153}. Best is trial 12 with value: 0.8367029548989113.\n",
      "[I 2024-01-16 16:05:57,910] Trial 29 finished with value: 0.8102643856920684 and parameters: {'learning_rate': 0.15726595100689517, 'num_leaves': 281, 'max_depth': 40, 'min_child_samples': 11, 'max_bin': 303, 'subsample': 0.8012389551769806, 'subsample_freq': 2, 'colsample_bytree': 0.7418507931015897, 'reg_alpha': 1.9219398803959447e-06, 'reg_lambda': 9.13479420351677e-07}. Best is trial 12 with value: 0.8367029548989113.\n",
      "[I 2024-01-16 16:05:58,513] Trial 30 finished with value: 0.702954898911353 and parameters: {'learning_rate': 0.06648019184425016, 'num_leaves': 251, 'max_depth': 30, 'min_child_samples': 97, 'max_bin': 370, 'subsample': 0.9978101492112103, 'subsample_freq': 5, 'colsample_bytree': 0.7930259745296653, 'reg_alpha': 0.0001243079733238298, 'reg_lambda': 3.785552876377904e-05}. Best is trial 12 with value: 0.8367029548989113.\n",
      "[I 2024-01-16 16:06:03,744] Trial 31 finished with value: 0.8273716951788491 and parameters: {'learning_rate': 0.11051857282404637, 'num_leaves': 263, 'max_depth': 26, 'min_child_samples': 5, 'max_bin': 265, 'subsample': 0.7075189652099312, 'subsample_freq': 7, 'colsample_bytree': 0.577583279523109, 'reg_alpha': 0.0009385147657531928, 'reg_lambda': 0.0016553497069678588}. Best is trial 12 with value: 0.8367029548989113.\n",
      "[I 2024-01-16 16:06:07,222] Trial 32 finished with value: 0.8242612752721618 and parameters: {'learning_rate': 0.1383788757673229, 'num_leaves': 267, 'max_depth': 28, 'min_child_samples': 11, 'max_bin': 248, 'subsample': 0.7237723810497031, 'subsample_freq': 7, 'colsample_bytree': 0.5941060001161425, 'reg_alpha': 0.005196621907751245, 'reg_lambda': 0.0018567146207835261}. Best is trial 12 with value: 0.8367029548989113.\n",
      "[I 2024-01-16 16:06:09,305] Trial 33 finished with value: 0.7993779160186625 and parameters: {'learning_rate': 0.03791167951229839, 'num_leaves': 220, 'max_depth': 21, 'min_child_samples': 21, 'max_bin': 270, 'subsample': 0.7555115393509524, 'subsample_freq': 7, 'colsample_bytree': 0.5291941476821077, 'reg_alpha': 0.02430319692271906, 'reg_lambda': 0.009292453785942248}. Best is trial 12 with value: 0.8367029548989113.\n",
      "[I 2024-01-16 16:06:13,728] Trial 34 finished with value: 0.8273716951788491 and parameters: {'learning_rate': 0.11513920863441206, 'num_leaves': 300, 'max_depth': 32, 'min_child_samples': 9, 'max_bin': 284, 'subsample': 0.6779073784634375, 'subsample_freq': 6, 'colsample_bytree': 0.464511038389678, 'reg_alpha': 3.4022873358463295e-05, 'reg_lambda': 0.022690291207705635}. Best is trial 12 with value: 0.8367029548989113.\n",
      "[I 2024-01-16 16:06:15,419] Trial 35 finished with value: 0.80248833592535 and parameters: {'learning_rate': 0.08940520578536063, 'num_leaves': 241, 'max_depth': 46, 'min_child_samples': 31, 'max_bin': 326, 'subsample': 0.8014865646268947, 'subsample_freq': 3, 'colsample_bytree': 0.9102110326495938, 'reg_alpha': 0.00032454163498037424, 'reg_lambda': 0.2498760982211939}. Best is trial 12 with value: 0.8367029548989113.\n",
      "[I 2024-01-16 16:06:16,300] Trial 36 finished with value: 0.7962674961119751 and parameters: {'learning_rate': 0.298993478624627, 'num_leaves': 280, 'max_depth': 25, 'min_child_samples': 44, 'max_bin': 303, 'subsample': 0.5455640744983178, 'subsample_freq': 2, 'colsample_bytree': 0.6652413037722364, 'reg_alpha': 2.4038437020171402e-06, 'reg_lambda': 9.835610186289306e-08}. Best is trial 12 with value: 0.8367029548989113.\n",
      "[I 2024-01-16 16:06:18,824] Trial 37 finished with value: 0.8180404354587869 and parameters: {'learning_rate': 0.12999286775994642, 'num_leaves': 133, 'max_depth': 34, 'min_child_samples': 12, 'max_bin': 202, 'subsample': 0.6265868332084845, 'subsample_freq': 7, 'colsample_bytree': 0.9757950278380181, 'reg_alpha': 0.24694664774066352, 'reg_lambda': 0.003291544943117922}. Best is trial 12 with value: 0.8367029548989113.\n",
      "[I 2024-01-16 16:06:19,416] Trial 38 finished with value: 0.776049766718507 and parameters: {'learning_rate': 0.18633913543181577, 'num_leaves': 103, 'max_depth': 18, 'min_child_samples': 79, 'max_bin': 294, 'subsample': 0.8771348949822488, 'subsample_freq': 6, 'colsample_bytree': 0.5904515611136519, 'reg_alpha': 0.016603347179826845, 'reg_lambda': 6.984657568570796e-05}. Best is trial 12 with value: 0.8367029548989113.\n",
      "[I 2024-01-16 16:06:21,606] Trial 39 finished with value: 0.8227060653188181 and parameters: {'learning_rate': 0.06834546817226549, 'num_leaves': 197, 'max_depth': 39, 'min_child_samples': 19, 'max_bin': 236, 'subsample': 0.770588110383542, 'subsample_freq': 7, 'colsample_bytree': 0.616217021932191, 'reg_alpha': 3.7728417569757494e-05, 'reg_lambda': 0.0003772039002302925}. Best is trial 12 with value: 0.8367029548989113.\n",
      "[I 2024-01-16 16:06:22,518] Trial 40 finished with value: 0.7978227060653188 and parameters: {'learning_rate': 0.14909736694707507, 'num_leaves': 254, 'max_depth': 27, 'min_child_samples': 34, 'max_bin': 212, 'subsample': 0.4809821149662802, 'subsample_freq': 6, 'colsample_bytree': 0.6632051858336122, 'reg_alpha': 0.0015980133468808254, 'reg_lambda': 0.23014555042117824}. Best is trial 12 with value: 0.8367029548989113.\n",
      "[I 2024-01-16 16:06:25,734] Trial 41 finished with value: 0.833592534992224 and parameters: {'learning_rate': 0.15379123372016204, 'num_leaves': 292, 'max_depth': 30, 'min_child_samples': 5, 'max_bin': 254, 'subsample': 0.8069744099958278, 'subsample_freq': 7, 'colsample_bytree': 0.5530713645959208, 'reg_alpha': 1.843054518966927, 'reg_lambda': 0.004406485042147163}. Best is trial 12 with value: 0.8367029548989113.\n",
      "[I 2024-01-16 16:06:28,901] Trial 42 finished with value: 0.8273716951788491 and parameters: {'learning_rate': 0.1911443949024255, 'num_leaves': 287, 'max_depth': 37, 'min_child_samples': 5, 'max_bin': 254, 'subsample': 0.9074530629669588, 'subsample_freq': 7, 'colsample_bytree': 0.5543572659151704, 'reg_alpha': 1.8511874796963603, 'reg_lambda': 0.0008001989986418035}. Best is trial 12 with value: 0.8367029548989113.\n",
      "[I 2024-01-16 16:06:32,424] Trial 43 finished with value: 0.8087091757387247 and parameters: {'learning_rate': 0.2294006685011049, 'num_leaves': 290, 'max_depth': 23, 'min_child_samples': 9, 'max_bin': 239, 'subsample': 0.6906850857687042, 'subsample_freq': 7, 'colsample_bytree': 0.5112568675198156, 'reg_alpha': 0.05546527302102697, 'reg_lambda': 0.003908465992148793}. Best is trial 12 with value: 0.8367029548989113.\n",
      "[I 2024-01-16 16:06:34,326] Trial 44 finished with value: 0.8211508553654744 and parameters: {'learning_rate': 0.1568748914554725, 'num_leaves': 264, 'max_depth': 32, 'min_child_samples': 17, 'max_bin': 260, 'subsample': 0.821055600196158, 'subsample_freq': 1, 'colsample_bytree': 0.5395573069511633, 'reg_alpha': 1.3586186566346383, 'reg_lambda': 0.00020425611007081563}. Best is trial 12 with value: 0.8367029548989113.\n",
      "[I 2024-01-16 16:06:35,624] Trial 45 finished with value: 0.7978227060653188 and parameters: {'learning_rate': 0.027738749114982048, 'num_leaves': 69, 'max_depth': 44, 'min_child_samples': 27, 'max_bin': 278, 'subsample': 0.7545422736394776, 'subsample_freq': 6, 'colsample_bytree': 0.5600571294879342, 'reg_alpha': 0.21313529562641606, 'reg_lambda': 0.034232865036816815}. Best is trial 12 with value: 0.8367029548989113.\n",
      "[I 2024-01-16 16:06:38,026] Trial 46 finished with value: 0.8413685847589425 and parameters: {'learning_rate': 0.10478753687620873, 'num_leaves': 232, 'max_depth': 14, 'min_child_samples': 9, 'max_bin': 291, 'subsample': 0.710025997967363, 'subsample_freq': 5, 'colsample_bytree': 0.6152899830307901, 'reg_alpha': 0.006164907008066368, 'reg_lambda': 0.0009870249991282378}. Best is trial 46 with value: 0.8413685847589425.\n",
      "[I 2024-01-16 16:06:40,013] Trial 47 finished with value: 0.8444790046656299 and parameters: {'learning_rate': 0.07168092950382213, 'num_leaves': 226, 'max_depth': 13, 'min_child_samples': 11, 'max_bin': 293, 'subsample': 0.8786418429927852, 'subsample_freq': 5, 'colsample_bytree': 0.617445493510094, 'reg_alpha': 0.008013098277079835, 'reg_lambda': 0.09890540305582582}. Best is trial 47 with value: 0.8444790046656299.\n",
      "[I 2024-01-16 16:06:42,319] Trial 48 finished with value: 0.8304821150855366 and parameters: {'learning_rate': 0.07973793823056473, 'num_leaves': 183, 'max_depth': 14, 'min_child_samples': 12, 'max_bin': 341, 'subsample': 0.8787984246589488, 'subsample_freq': 4, 'colsample_bytree': 0.6588097932049826, 'reg_alpha': 0.005581117930531565, 'reg_lambda': 0.10843619571832286}. Best is trial 47 with value: 0.8444790046656299.\n",
      "[I 2024-01-16 16:06:43,308] Trial 49 finished with value: 0.8133748055987559 and parameters: {'learning_rate': 0.06671283189936149, 'num_leaves': 219, 'max_depth': 6, 'min_child_samples': 26, 'max_bin': 325, 'subsample': 0.9349231308629142, 'subsample_freq': 5, 'colsample_bytree': 0.6186889918600821, 'reg_alpha': 0.07183422888384497, 'reg_lambda': 2.046591007639221}. Best is trial 47 with value: 0.8444790046656299.\n",
      "[I 2024-01-16 16:06:44,603] Trial 50 finished with value: 0.8195956454121306 and parameters: {'learning_rate': 0.04268388260378224, 'num_leaves': 233, 'max_depth': 12, 'min_child_samples': 18, 'max_bin': 291, 'subsample': 0.8264609916199044, 'subsample_freq': 3, 'colsample_bytree': 0.725047876594097, 'reg_alpha': 0.011962093415195729, 'reg_lambda': 3.458218371633842}. Best is trial 47 with value: 0.8444790046656299.\n",
      "[I 2024-01-16 16:06:47,101] Trial 51 finished with value: 0.8351477449455676 and parameters: {'learning_rate': 0.1008186443210203, 'num_leaves': 246, 'max_depth': 16, 'min_child_samples': 9, 'max_bin': 308, 'subsample': 0.7782160732495329, 'subsample_freq': 5, 'colsample_bytree': 0.6119461411822017, 'reg_alpha': 0.4826536720556203, 'reg_lambda': 0.008329259053377582}. Best is trial 47 with value: 0.8444790046656299.\n",
      "[I 2024-01-16 16:06:48,735] Trial 52 finished with value: 0.8055987558320373 and parameters: {'learning_rate': 0.02451841260858136, 'num_leaves': 248, 'max_depth': 16, 'min_child_samples': 10, 'max_bin': 301, 'subsample': 0.7812769382923501, 'subsample_freq': 5, 'colsample_bytree': 0.6053648384293842, 'reg_alpha': 3.7815065170287734, 'reg_lambda': 0.01781167251395149}. Best is trial 47 with value: 0.8444790046656299.\n",
      "[I 2024-01-16 16:06:51,032] Trial 53 finished with value: 0.8351477449455676 and parameters: {'learning_rate': 0.07726211653440243, 'num_leaves': 290, 'max_depth': 19, 'min_child_samples': 14, 'max_bin': 310, 'subsample': 0.8888240955670974, 'subsample_freq': 4, 'colsample_bytree': 0.6378328774027984, 'reg_alpha': 0.36368680821282967, 'reg_lambda': 0.006146394925715199}. Best is trial 47 with value: 0.8444790046656299.\n",
      "[I 2024-01-16 16:06:53,102] Trial 54 finished with value: 0.8211508553654744 and parameters: {'learning_rate': 0.07863179754697235, 'num_leaves': 165, 'max_depth': 18, 'min_child_samples': 14, 'max_bin': 312, 'subsample': 0.886432237993379, 'subsample_freq': 4, 'colsample_bytree': 0.6402550431409588, 'reg_alpha': 0.48583916642602193, 'reg_lambda': 0.47992018296052746}. Best is trial 47 with value: 0.8444790046656299.\n",
      "[I 2024-01-16 16:06:54,620] Trial 55 finished with value: 0.8118195956454122 and parameters: {'learning_rate': 0.09949977472525058, 'num_leaves': 205, 'max_depth': 11, 'min_child_samples': 21, 'max_bin': 349, 'subsample': 0.9215613130027591, 'subsample_freq': 4, 'colsample_bytree': 0.7680829141843085, 'reg_alpha': 0.048245669714070245, 'reg_lambda': 0.10501710063551818}. Best is trial 47 with value: 0.8444790046656299.\n",
      "[I 2024-01-16 16:06:56,809] Trial 56 finished with value: 0.8273716951788491 and parameters: {'learning_rate': 0.05742584973704293, 'num_leaves': 226, 'max_depth': 16, 'min_child_samples': 14, 'max_bin': 328, 'subsample': 0.8437726553687614, 'subsample_freq': 5, 'colsample_bytree': 0.6470370699725794, 'reg_alpha': 0.3975586319378837, 'reg_lambda': 0.009165506912662644}. Best is trial 47 with value: 0.8444790046656299.\n",
      "[I 2024-01-16 16:06:58,126] Trial 57 finished with value: 0.8351477449455676 and parameters: {'learning_rate': 0.08645275773561761, 'num_leaves': 276, 'max_depth': 8, 'min_child_samples': 9, 'max_bin': 310, 'subsample': 0.9610034997589316, 'subsample_freq': 5, 'colsample_bytree': 0.6773999247631276, 'reg_alpha': 0.08343655063454065, 'reg_lambda': 0.00020929142750141725}. Best is trial 47 with value: 0.8444790046656299.\n",
      "[I 2024-01-16 16:06:58,511] Trial 58 finished with value: 0.7978227060653188 and parameters: {'learning_rate': 0.049563798857707154, 'num_leaves': 244, 'max_depth': 2, 'min_child_samples': 72, 'max_bin': 296, 'subsample': 0.8610165946454907, 'subsample_freq': 4, 'colsample_bytree': 0.6273349498227889, 'reg_alpha': 7.203933297337933, 'reg_lambda': 0.0009853157033156352}. Best is trial 47 with value: 0.8444790046656299.\n",
      "[I 2024-01-16 16:06:59,919] Trial 59 finished with value: 0.807153965785381 and parameters: {'learning_rate': 0.06366082349087676, 'num_leaves': 256, 'max_depth': 20, 'min_child_samples': 24, 'max_bin': 387, 'subsample': 0.6572560722191194, 'subsample_freq': 5, 'colsample_bytree': 0.5177374263374345, 'reg_alpha': 0.03504584427778733, 'reg_lambda': 0.03432098579539395}. Best is trial 47 with value: 0.8444790046656299.\n",
      "[I 2024-01-16 16:07:01,722] Trial 60 finished with value: 0.8242612752721618 and parameters: {'learning_rate': 0.12257174240204693, 'num_leaves': 231, 'max_depth': 14, 'min_child_samples': 16, 'max_bin': 318, 'subsample': 0.7804209096568284, 'subsample_freq': 3, 'colsample_bytree': 0.4743811241973789, 'reg_alpha': 0.13953796051894324, 'reg_lambda': 0.0065182019731468335}. Best is trial 47 with value: 0.8444790046656299.\n",
      "[I 2024-01-16 16:07:03,734] Trial 61 finished with value: 0.8413685847589425 and parameters: {'learning_rate': 0.08646500083372045, 'num_leaves': 275, 'max_depth': 8, 'min_child_samples': 8, 'max_bin': 310, 'subsample': 0.9688653924716015, 'subsample_freq': 5, 'colsample_bytree': 0.6830594440109891, 'reg_alpha': 0.010526821507080633, 'reg_lambda': 0.00016415396295078703}. Best is trial 47 with value: 0.8444790046656299.\n",
      "[I 2024-01-16 16:07:04,513] Trial 62 finished with value: 0.8304821150855366 and parameters: {'learning_rate': 0.09883204765063766, 'num_leaves': 289, 'max_depth': 3, 'min_child_samples': 8, 'max_bin': 308, 'subsample': 0.9715405395262787, 'subsample_freq': 5, 'colsample_bytree': 0.6094030737822668, 'reg_alpha': 0.0037868508851462276, 'reg_lambda': 9.177584978101638e-05}. Best is trial 47 with value: 0.8444790046656299.\n",
      "[I 2024-01-16 16:07:05,722] Trial 63 finished with value: 0.838258164852255 and parameters: {'learning_rate': 0.07864400631807657, 'num_leaves': 278, 'max_depth': 8, 'min_child_samples': 13, 'max_bin': 333, 'subsample': 0.8977096394151556, 'subsample_freq': 4, 'colsample_bytree': 0.7161636361883292, 'reg_alpha': 0.010600654451291104, 'reg_lambda': 1.8563823890596292e-05}. Best is trial 47 with value: 0.8444790046656299.\n",
      "[I 2024-01-16 16:07:07,126] Trial 64 finished with value: 0.8429237947122862 and parameters: {'learning_rate': 0.07372265818269687, 'num_leaves': 275, 'max_depth': 8, 'min_child_samples': 12, 'max_bin': 345, 'subsample': 0.9990047355144851, 'subsample_freq': 5, 'colsample_bytree': 0.716219695581383, 'reg_alpha': 0.010150037979668349, 'reg_lambda': 1.3673463556836501e-05}. Best is trial 47 with value: 0.8444790046656299.\n",
      "[I 2024-01-16 16:07:08,423] Trial 65 finished with value: 0.8211508553654744 and parameters: {'learning_rate': 0.04890527180341646, 'num_leaves': 276, 'max_depth': 8, 'min_child_samples': 20, 'max_bin': 344, 'subsample': 0.9890068531630073, 'subsample_freq': 5, 'colsample_bytree': 0.713522395232671, 'reg_alpha': 0.010368177205175846, 'reg_lambda': 8.367847552131913e-06}. Best is trial 47 with value: 0.8444790046656299.\n",
      "[I 2024-01-16 16:07:08,806] Trial 66 finished with value: 0.8087091757387247 and parameters: {'learning_rate': 0.07534787623903497, 'num_leaves': 300, 'max_depth': 1, 'min_child_samples': 12, 'max_bin': 351, 'subsample': 0.9585128883585609, 'subsample_freq': 4, 'colsample_bytree': 0.8188659021981415, 'reg_alpha': 0.0013614981162852439, 'reg_lambda': 2.2975100229238776e-06}. Best is trial 47 with value: 0.8444790046656299.\n",
      "[I 2024-01-16 16:07:09,720] Trial 67 finished with value: 0.8055987558320373 and parameters: {'learning_rate': 0.025378740122281536, 'num_leaves': 258, 'max_depth': 6, 'min_child_samples': 52, 'max_bin': 337, 'subsample': 0.9111201552254709, 'subsample_freq': 6, 'colsample_bytree': 0.7589447239310004, 'reg_alpha': 0.0030948477244999656, 'reg_lambda': 1.8124647901563632e-05}. Best is trial 47 with value: 0.8444790046656299.\n",
      "[I 2024-01-16 16:07:10,920] Trial 68 finished with value: 0.8009331259720062 and parameters: {'learning_rate': 0.06262595495038056, 'num_leaves': 271, 'max_depth': 10, 'min_child_samples': 42, 'max_bin': 332, 'subsample': 0.9880719505251088, 'subsample_freq': 5, 'colsample_bytree': 0.7062984320199583, 'reg_alpha': 3.3344331038255284e-08, 'reg_lambda': 2.0027699945217404e-06}. Best is trial 47 with value: 0.8444790046656299.\n",
      "[I 2024-01-16 16:07:11,801] Trial 69 finished with value: 0.8320373250388803 and parameters: {'learning_rate': 0.09221352026615309, 'num_leaves': 27, 'max_depth': 4, 'min_child_samples': 7, 'max_bin': 321, 'subsample': 0.9429790551411306, 'subsample_freq': 4, 'colsample_bytree': 0.6800264514532741, 'reg_alpha': 0.007027094318108835, 'reg_lambda': 5.7352310133918264e-05}. Best is trial 47 with value: 0.8444790046656299.\n",
      "[I 2024-01-16 16:07:12,922] Trial 70 finished with value: 0.8273716951788491 and parameters: {'learning_rate': 0.0439005461947901, 'num_leaves': 283, 'max_depth': 7, 'min_child_samples': 17, 'max_bin': 360, 'subsample': 0.9769639617643735, 'subsample_freq': 6, 'colsample_bytree': 0.7388508270425556, 'reg_alpha': 0.022044008701407134, 'reg_lambda': 1.0145278867820885e-05}. Best is trial 47 with value: 0.8444790046656299.\n",
      "[I 2024-01-16 16:07:15,350] Trial 71 finished with value: 0.8398133748055988 and parameters: {'learning_rate': 0.10395859513953175, 'num_leaves': 247, 'max_depth': 15, 'min_child_samples': 8, 'max_bin': 288, 'subsample': 0.7466773081816312, 'subsample_freq': 5, 'colsample_bytree': 0.6827558298120819, 'reg_alpha': 0.00019789355190930044, 'reg_lambda': 0.0003137487424031064}. Best is trial 47 with value: 0.8444790046656299.\n",
      "[I 2024-01-16 16:07:17,016] Trial 72 finished with value: 0.8304821150855366 and parameters: {'learning_rate': 0.07187149087127681, 'num_leaves': 260, 'max_depth': 13, 'min_child_samples': 12, 'max_bin': 287, 'subsample': 0.6090379359283414, 'subsample_freq': 5, 'colsample_bytree': 0.8060774673908794, 'reg_alpha': 0.00025126481100801114, 'reg_lambda': 2.9531932015479773e-05}. Best is trial 47 with value: 0.8444790046656299.\n",
      "[I 2024-01-16 16:07:18,910] Trial 73 finished with value: 0.8351477449455676 and parameters: {'learning_rate': 0.08425008721346615, 'num_leaves': 270, 'max_depth': 10, 'min_child_samples': 7, 'max_bin': 274, 'subsample': 0.7330461063225127, 'subsample_freq': 5, 'colsample_bytree': 0.7149869587918546, 'reg_alpha': 0.0011466659033186365, 'reg_lambda': 0.00014323194690154197}. Best is trial 47 with value: 0.8444790046656299.\n",
      "[I 2024-01-16 16:07:20,902] Trial 74 finished with value: 0.8273716951788491 and parameters: {'learning_rate': 0.11134306921218012, 'num_leaves': 237, 'max_depth': 12, 'min_child_samples': 11, 'max_bin': 299, 'subsample': 0.943456737109385, 'subsample_freq': 4, 'colsample_bytree': 0.685549328461487, 'reg_alpha': 0.0005326200506176852, 'reg_lambda': 0.0002547505251522024}. Best is trial 47 with value: 0.8444790046656299.\n",
      "[I 2024-01-16 16:07:22,619] Trial 75 finished with value: 0.8133748055987559 and parameters: {'learning_rate': 0.05705560955069796, 'num_leaves': 280, 'max_depth': 0, 'min_child_samples': 22, 'max_bin': 290, 'subsample': 0.7515402588682704, 'subsample_freq': 6, 'colsample_bytree': 0.570755534698365, 'reg_alpha': 0.002485987963432587, 'reg_lambda': 2.9109694710618254e-05}. Best is trial 47 with value: 0.8444790046656299.\n",
      "[I 2024-01-16 16:07:26,024] Trial 76 finished with value: 0.8211508553654744 and parameters: {'learning_rate': 0.13700331954494216, 'num_leaves': 264, 'max_depth': 15, 'min_child_samples': 5, 'max_bin': 354, 'subsample': 0.6854165246850962, 'subsample_freq': 5, 'colsample_bytree': 0.8400981999728426, 'reg_alpha': 0.00016782789342117824, 'reg_lambda': 5.660887261010431e-06}. Best is trial 47 with value: 0.8444790046656299.\n",
      "[I 2024-01-16 16:07:27,516] Trial 77 finished with value: 0.8273716951788491 and parameters: {'learning_rate': 0.12832241490150992, 'num_leaves': 211, 'max_depth': 9, 'min_child_samples': 16, 'max_bin': 368, 'subsample': 0.9287321228909899, 'subsample_freq': 3, 'colsample_bytree': 0.7594133353169871, 'reg_alpha': 5.338027422515483e-05, 'reg_lambda': 4.566563549075914}. Best is trial 47 with value: 0.8444790046656299.\n",
      "[I 2024-01-16 16:07:28,102] Trial 78 finished with value: 0.7931570762052877 and parameters: {'learning_rate': 0.09038563141009404, 'num_leaves': 252, 'max_depth': 4, 'min_child_samples': 59, 'max_bin': 329, 'subsample': 0.6648891602775434, 'subsample_freq': 5, 'colsample_bytree': 0.6536708016014106, 'reg_alpha': 0.011641267582716011, 'reg_lambda': 1.6890801869221545e-05}. Best is trial 47 with value: 0.8444790046656299.\n",
      "[I 2024-01-16 16:07:30,205] Trial 79 finished with value: 0.8367029548989113 and parameters: {'learning_rate': 0.10499426274752252, 'num_leaves': 283, 'max_depth': 11, 'min_child_samples': 8, 'max_bin': 321, 'subsample': 0.6317214455765668, 'subsample_freq': 6, 'colsample_bytree': 0.7738263133976772, 'reg_alpha': 0.0007102417976054717, 'reg_lambda': 2.7667840134673615e-07}. Best is trial 47 with value: 0.8444790046656299.\n",
      "[I 2024-01-16 16:07:32,926] Trial 80 finished with value: 0.8133748055987559 and parameters: {'learning_rate': 0.11729824410564009, 'num_leaves': 295, 'max_depth': 22, 'min_child_samples': 14, 'max_bin': 337, 'subsample': 0.7095611774415312, 'subsample_freq': 4, 'colsample_bytree': 0.7249611854385024, 'reg_alpha': 6.571045122536177e-07, 'reg_lambda': 1.0290237853828445e-08}. Best is trial 47 with value: 0.8444790046656299.\n",
      "[I 2024-01-16 16:07:34,709] Trial 81 finished with value: 0.838258164852255 and parameters: {'learning_rate': 0.10472000266007406, 'num_leaves': 283, 'max_depth': 11, 'min_child_samples': 8, 'max_bin': 322, 'subsample': 0.6410559519609763, 'subsample_freq': 6, 'colsample_bytree': 0.7470389988232446, 'reg_alpha': 0.0007926928263042208, 'reg_lambda': 9.522733166942809e-08}. Best is trial 47 with value: 0.8444790046656299.\n",
      "[I 2024-01-16 16:07:36,426] Trial 82 finished with value: 0.838258164852255 and parameters: {'learning_rate': 0.07213108940512639, 'num_leaves': 274, 'max_depth': 13, 'min_child_samples': 11, 'max_bin': 315, 'subsample': 0.587645687086124, 'subsample_freq': 6, 'colsample_bytree': 0.698119110291376, 'reg_alpha': 0.005241255753288047, 'reg_lambda': 8.003694043645788e-08}. Best is trial 47 with value: 0.8444790046656299.\n",
      "[I 2024-01-16 16:07:38,304] Trial 83 finished with value: 0.8367029548989113 and parameters: {'learning_rate': 0.08498294593556276, 'num_leaves': 274, 'max_depth': 13, 'min_child_samples': 10, 'max_bin': 278, 'subsample': 0.591934494149308, 'subsample_freq': 6, 'colsample_bytree': 0.6982568341630647, 'reg_alpha': 0.03068336691148999, 'reg_lambda': 4.657820227272134e-08}. Best is trial 47 with value: 0.8444790046656299.\n",
      "[I 2024-01-16 16:07:39,501] Trial 84 finished with value: 0.8258164852255054 and parameters: {'learning_rate': 0.07125310855304444, 'num_leaves': 285, 'max_depth': 8, 'min_child_samples': 19, 'max_bin': 313, 'subsample': 0.580159577273347, 'subsample_freq': 6, 'colsample_bytree': 0.6685733083813279, 'reg_alpha': 0.009254619731018343, 'reg_lambda': 1.0366597638560946e-07}. Best is trial 47 with value: 0.8444790046656299.\n",
      "[I 2024-01-16 16:07:41,529] Trial 85 finished with value: 0.8429237947122862 and parameters: {'learning_rate': 0.09491574629637406, 'num_leaves': 294, 'max_depth': 12, 'min_child_samples': 13, 'max_bin': 304, 'subsample': 0.9555331096798383, 'subsample_freq': 5, 'colsample_bytree': 0.7491218299139517, 'reg_alpha': 0.00400833311379995, 'reg_lambda': 2.5725774857854955e-07}. Best is trial 47 with value: 0.8444790046656299.\n",
      "[I 2024-01-16 16:07:43,126] Trial 86 finished with value: 0.8320373250388803 and parameters: {'learning_rate': 0.09412896301270032, 'num_leaves': 260, 'max_depth': 11, 'min_child_samples': 13, 'max_bin': 302, 'subsample': 0.9030450412279857, 'subsample_freq': 5, 'colsample_bytree': 0.7473363022079141, 'reg_alpha': 0.0044798773979167535, 'reg_lambda': 3.3184042515096657e-07}. Best is trial 47 with value: 0.8444790046656299.\n",
      "[I 2024-01-16 16:07:44,124] Trial 87 finished with value: 0.8195956454121306 and parameters: {'learning_rate': 0.10750371830588212, 'num_leaves': 294, 'max_depth': 7, 'min_child_samples': 18, 'max_bin': 282, 'subsample': 0.5455840928458578, 'subsample_freq': 6, 'colsample_bytree': 0.7910970734914268, 'reg_alpha': 0.002063009305918786, 'reg_lambda': 8.465781010894853e-07}. Best is trial 47 with value: 0.8444790046656299.\n",
      "[I 2024-01-16 16:07:45,927] Trial 88 finished with value: 0.8164852255054432 and parameters: {'learning_rate': 0.12744119509113258, 'num_leaves': 269, 'max_depth': 15, 'min_child_samples': 26, 'max_bin': 294, 'subsample': 0.9543123234699918, 'subsample_freq': 5, 'colsample_bytree': 0.7768679277540088, 'reg_alpha': 0.01510882484140107, 'reg_lambda': 1.9869038217207945e-07}. Best is trial 47 with value: 0.8444790046656299.\n",
      "[I 2024-01-16 16:07:48,208] Trial 89 finished with value: 0.8304821150855366 and parameters: {'learning_rate': 0.11650383772791222, 'num_leaves': 218, 'max_depth': 12, 'min_child_samples': 7, 'max_bin': 304, 'subsample': 0.9953913999254222, 'subsample_freq': 5, 'colsample_bytree': 0.7289501126595617, 'reg_alpha': 0.005555717080490533, 'reg_lambda': 3.978231646667279e-08}. Best is trial 47 with value: 0.8444790046656299.\n",
      "[I 2024-01-16 16:07:49,307] Trial 90 finished with value: 0.8211508553654744 and parameters: {'learning_rate': 0.0959494387019789, 'num_leaves': 242, 'max_depth': 9, 'min_child_samples': 24, 'max_bin': 315, 'subsample': 0.8615799805627176, 'subsample_freq': 6, 'colsample_bytree': 0.7502468152215108, 'reg_alpha': 0.0009292953897042875, 'reg_lambda': 2.0824624275615755e-08}. Best is trial 47 with value: 0.8444790046656299.\n",
      "[I 2024-01-16 16:07:52,231] Trial 91 finished with value: 0.8351477449455676 and parameters: {'learning_rate': 0.08175473687189107, 'num_leaves': 278, 'max_depth': 17, 'min_child_samples': 10, 'max_bin': 305, 'subsample': 0.9744409823732281, 'subsample_freq': 5, 'colsample_bytree': 0.7028114690349958, 'reg_alpha': 0.007475463060901157, 'reg_lambda': 0.0005123364791061837}. Best is trial 47 with value: 0.8444790046656299.\n",
      "[I 2024-01-16 16:07:54,324] Trial 92 finished with value: 0.8211508553654744 and parameters: {'learning_rate': 0.06246870940195609, 'num_leaves': 296, 'max_depth': 15, 'min_child_samples': 16, 'max_bin': 323, 'subsample': 0.7194578187722056, 'subsample_freq': 5, 'colsample_bytree': 0.6746837328874168, 'reg_alpha': 0.10031372086984021, 'reg_lambda': 1.1365378020063736e-07}. Best is trial 47 with value: 0.8444790046656299.\n",
      "[I 2024-01-16 16:07:56,014] Trial 93 finished with value: 0.8227060653188181 and parameters: {'learning_rate': 0.07791061925283835, 'num_leaves': 287, 'max_depth': 13, 'min_child_samples': 12, 'max_bin': 332, 'subsample': 0.6125162740275697, 'subsample_freq': 5, 'colsample_bytree': 0.7210564535601895, 'reg_alpha': 0.0030890045827444354, 'reg_lambda': 5.380513658637358e-07}. Best is trial 47 with value: 0.8444790046656299.\n",
      "[I 2024-01-16 16:08:33,108] Trial 94 finished with value: 0.833592534992224 and parameters: {'learning_rate': 0.0708684459856385, 'num_leaves': 251, 'max_depth': 18, 'min_child_samples': 7, 'max_bin': 344, 'subsample': 0.6972340675072991, 'subsample_freq': 4, 'colsample_bytree': 0.6936304183858949, 'reg_alpha': 0.021846855143346347, 'reg_lambda': 2.671118412424739e-08}. Best is trial 47 with value: 0.8444790046656299.\n",
      "[I 2024-01-16 16:08:34,624] Trial 95 finished with value: 0.8413685847589425 and parameters: {'learning_rate': 0.1034997035691825, 'num_leaves': 266, 'max_depth': 10, 'min_child_samples': 10, 'max_bin': 290, 'subsample': 0.8264928178283191, 'subsample_freq': 5, 'colsample_bytree': 0.734342337213703, 'reg_alpha': 0.0017867415626857687, 'reg_lambda': 2.260714469823104e-06}. Best is trial 47 with value: 0.8444790046656299.\n",
      "[I 2024-01-16 16:08:36,301] Trial 96 finished with value: 0.8429237947122862 and parameters: {'learning_rate': 0.10095464881541157, 'num_leaves': 235, 'max_depth': 10, 'min_child_samples': 10, 'max_bin': 292, 'subsample': 0.833547613088771, 'subsample_freq': 5, 'colsample_bytree': 0.730758884325507, 'reg_alpha': 0.00155634272529513, 'reg_lambda': 1.7178336388411648e-06}. Best is trial 47 with value: 0.8444790046656299.\n",
      "[I 2024-01-16 16:08:37,224] Trial 97 finished with value: 0.8320373250388803 and parameters: {'learning_rate': 0.10530324152015424, 'num_leaves': 235, 'max_depth': 6, 'min_child_samples': 15, 'max_bin': 289, 'subsample': 0.8245975929762609, 'subsample_freq': 5, 'colsample_bytree': 0.7423126563074701, 'reg_alpha': 0.0018087084702793094, 'reg_lambda': 1.6707023347369783e-06}. Best is trial 47 with value: 0.8444790046656299.\n",
      "[I 2024-01-16 16:08:38,014] Trial 98 finished with value: 0.713841368584759 and parameters: {'learning_rate': 0.14301364744986483, 'num_leaves': 246, 'max_depth': 10, 'min_child_samples': 83, 'max_bin': 282, 'subsample': 0.8648734804256468, 'subsample_freq': 5, 'colsample_bytree': 0.733480115628336, 'reg_alpha': 0.0004352013596448085, 'reg_lambda': 2.8324444788293147e-06}. Best is trial 47 with value: 0.8444790046656299.\n",
      "[I 2024-01-16 16:08:38,800] Trial 99 finished with value: 0.7822706065318819 and parameters: {'learning_rate': 0.12370506915356144, 'num_leaves': 223, 'max_depth': 7, 'min_child_samples': 68, 'max_bin': 297, 'subsample': 0.8398135533007872, 'subsample_freq': 4, 'colsample_bytree': 0.7818545911749106, 'reg_alpha': 6.358248245936943e-05, 'reg_lambda': 6.070637127506287e-06}. Best is trial 47 with value: 0.8444790046656299.\n"
     ]
    },
    {
     "name": "stdout",
     "output_type": "stream",
     "text": [
      "Best parameters: {'learning_rate': 0.07168092950382213, 'num_leaves': 226, 'max_depth': 13, 'min_child_samples': 11, 'max_bin': 293, 'subsample': 0.8786418429927852, 'subsample_freq': 5, 'colsample_bytree': 0.617445493510094, 'reg_alpha': 0.008013098277079835, 'reg_lambda': 0.09890540305582582}\n",
      "Improved LightGBM Model Accuracy: 84.2924%\n"
     ]
    }
   ],
   "source": [
    "def objective(trial):\n",
    "    param = {\n",
    "        'objective': 'binary',  # Adjust for your task ('multiclass', etc.)\n",
    "        'metric': 'binary_logloss',  # Adjust for your task ('multi_logloss', etc.)\n",
    "        'verbosity': -1,\n",
    "        'boosting_type': 'gbdt',\n",
    "        'learning_rate': trial.suggest_float('learning_rate', 0.01, 0.3),\n",
    "        'num_leaves': trial.suggest_int('num_leaves', 20, 300),\n",
    "        'max_depth': trial.suggest_int('max_depth', -1, 50),\n",
    "        'min_child_samples': trial.suggest_int('min_child_samples', 5, 100),\n",
    "        'max_bin': trial.suggest_int('max_bin', 200, 400),\n",
    "        'subsample': trial.suggest_float('subsample', 0.4, 1.0),\n",
    "        'subsample_freq': trial.suggest_int('subsample_freq', 0, 7),\n",
    "        'colsample_bytree': trial.suggest_float('colsample_bytree', 0.4, 1.0),\n",
    "        'reg_alpha': trial.suggest_float('reg_alpha', 1e-8, 10.0, log=True),\n",
    "        'reg_lambda': trial.suggest_float('reg_lambda', 1e-8, 10.0, log=True),\n",
    "    }\n",
    "\n",
    "    lgbm = lgb.LGBMClassifier(**param)\n",
    "    lgbm.fit(X_train_transformed, Y_train, \n",
    "             eval_set=(X_test_transformed, Y_test))\n",
    "             #early_stopping_rounds=100, \n",
    "             #verbose=False)\n",
    "\n",
    "    y_pred = lgbm.predict(X_test_transformed)\n",
    "    accuracy = accuracy_score(Y_test, y_pred)\n",
    "    return accuracy\n",
    "\n",
    "study = optuna.create_study(direction='maximize')\n",
    "study.optimize(objective, n_trials=100)\n",
    "\n",
    "# Best parameters after optimization\n",
    "best_params = study.best_params\n",
    "print(\"Best parameters:\", best_params)\n",
    "\n",
    "# Train the best model with early stopping\n",
    "best_lgbm = lgb.LGBMClassifier(**best_params,min_gain_to_split=0.05,verbose=-1)\n",
    "best_lgbm.fit(X_train_transformed, Y_train,\n",
    "              eval_set=(X_test_transformed, Y_test))\n",
    "              #early_stopping_rounds=100,\n",
    "              #verbose=False)\n",
    "\n",
    "# Evaluation\n",
    "y_pred_best = best_lgbm.predict(X_test_transformed)\n",
    "accuracy_lgb_best = accuracy_score(Y_test, y_pred_best)\n",
    "print(\"Improved LightGBM Model Accuracy: {:.4f}%\".format(accuracy_lgb_best * 100))\n"
   ]
  },
  {
   "cell_type": "markdown",
   "id": "9e5c5353",
   "metadata": {},
   "source": [
    "## 8. CatBoost"
   ]
  },
  {
   "cell_type": "code",
   "execution_count": 35,
   "id": "ab6e4ef8",
   "metadata": {
    "scrolled": true
   },
   "outputs": [
    {
     "name": "stderr",
     "output_type": "stream",
     "text": [
      "[I 2024-01-16 16:19:27,051] A new study created in memory with name: no-name-2bbbc041-5285-4ff4-908d-b622ee9c898c\n",
      "[I 2024-01-16 16:19:33,162] Trial 0 finished with value: 0.8491446345256609 and parameters: {'iterations': 231, 'depth': 7, 'learning_rate': 0.14086327322758466, 'random_strength': 2, 'bagging_temperature': 0.5803417547785574, 'l2_leaf_reg': 5.624330667527991e-06, 'border_count': 38}. Best is trial 0 with value: 0.8491446345256609.\n",
      "[I 2024-01-16 16:20:35,118] Trial 1 finished with value: 0.8351477449455676 and parameters: {'iterations': 931, 'depth': 9, 'learning_rate': 0.16279109999755845, 'random_strength': 19, 'bagging_temperature': 0.2853861504021228, 'l2_leaf_reg': 4.123289259916402, 'border_count': 83}. Best is trial 0 with value: 0.8491446345256609.\n",
      "[I 2024-01-16 16:20:41,023] Trial 2 finished with value: 0.8506998444790047 and parameters: {'iterations': 241, 'depth': 7, 'learning_rate': 0.2129574224419948, 'random_strength': 4, 'bagging_temperature': 0.554480476455208, 'l2_leaf_reg': 0.1952942341005545, 'border_count': 152}. Best is trial 2 with value: 0.8506998444790047.\n",
      "[I 2024-01-16 16:20:42,847] Trial 3 finished with value: 0.8506998444790047 and parameters: {'iterations': 168, 'depth': 4, 'learning_rate': 0.28647757205489977, 'random_strength': 5, 'bagging_temperature': 0.8790366648749887, 'l2_leaf_reg': 0.0014735241590930195, 'border_count': 124}. Best is trial 2 with value: 0.8506998444790047.\n",
      "[I 2024-01-16 16:20:44,559] Trial 4 finished with value: 0.8087091757387247 and parameters: {'iterations': 120, 'depth': 5, 'learning_rate': 0.050017716274919424, 'random_strength': 19, 'bagging_temperature': 0.40175925878801577, 'l2_leaf_reg': 0.0004982931565801228, 'border_count': 160}. Best is trial 2 with value: 0.8506998444790047.\n",
      "[I 2024-01-16 16:22:17,823] Trial 5 finished with value: 0.8367029548989113 and parameters: {'iterations': 920, 'depth': 10, 'learning_rate': 0.05613899067051642, 'random_strength': 10, 'bagging_temperature': 0.7621612514996896, 'l2_leaf_reg': 3.406171282619772e-07, 'border_count': 115}. Best is trial 2 with value: 0.8506998444790047.\n",
      "[I 2024-01-16 16:22:50,879] Trial 6 finished with value: 0.8475894245723172 and parameters: {'iterations': 855, 'depth': 8, 'learning_rate': 0.1312799431890428, 'random_strength': 14, 'bagging_temperature': 0.9781122020643819, 'l2_leaf_reg': 6.251640850246468, 'border_count': 41}. Best is trial 2 with value: 0.8506998444790047.\n",
      "[I 2024-01-16 16:22:54,267] Trial 7 finished with value: 0.8304821150855366 and parameters: {'iterations': 125, 'depth': 7, 'learning_rate': 0.11071833959591114, 'random_strength': 7, 'bagging_temperature': 0.18880640370210489, 'l2_leaf_reg': 0.0006786374985224985, 'border_count': 35}. Best is trial 2 with value: 0.8506998444790047.\n",
      "[I 2024-01-16 16:23:48,682] Trial 8 finished with value: 0.838258164852255 and parameters: {'iterations': 886, 'depth': 9, 'learning_rate': 0.05014463305088791, 'random_strength': 17, 'bagging_temperature': 0.773427369211741, 'l2_leaf_reg': 0.00012057702877354581, 'border_count': 34}. Best is trial 2 with value: 0.8506998444790047.\n",
      "[I 2024-01-16 16:24:07,768] Trial 9 finished with value: 0.8475894245723172 and parameters: {'iterations': 833, 'depth': 7, 'learning_rate': 0.14245183604755055, 'random_strength': 19, 'bagging_temperature': 0.9000202974982433, 'l2_leaf_reg': 0.006617885767303093, 'border_count': 236}. Best is trial 2 with value: 0.8506998444790047.\n",
      "[I 2024-01-16 16:24:13,303] Trial 10 finished with value: 0.8522550544323484 and parameters: {'iterations': 398, 'depth': 5, 'learning_rate': 0.24620204347029612, 'random_strength': 1, 'bagging_temperature': 0.03981557832861271, 'l2_leaf_reg': 0.04520093608592435, 'border_count': 192}. Best is trial 10 with value: 0.8522550544323484.\n",
      "[I 2024-01-16 16:24:18,963] Trial 11 finished with value: 0.8429237947122862 and parameters: {'iterations': 413, 'depth': 5, 'learning_rate': 0.23906513454717737, 'random_strength': 1, 'bagging_temperature': 0.031186150332276667, 'l2_leaf_reg': 0.06890369938862811, 'border_count': 201}. Best is trial 10 with value: 0.8522550544323484.\n",
      "[I 2024-01-16 16:24:27,272] Trial 12 finished with value: 0.8475894245723172 and parameters: {'iterations': 458, 'depth': 6, 'learning_rate': 0.2189512937953359, 'random_strength': 4, 'bagging_temperature': 0.5373366586765536, 'l2_leaf_reg': 0.2325026283023075, 'border_count': 176}. Best is trial 10 with value: 0.8522550544323484.\n",
      "[I 2024-01-16 16:24:30,939] Trial 13 finished with value: 0.8429237947122862 and parameters: {'iterations': 337, 'depth': 4, 'learning_rate': 0.2096352504989755, 'random_strength': 8, 'bagging_temperature': 0.04958534634849304, 'l2_leaf_reg': 0.07752013746611908, 'border_count': 214}. Best is trial 10 with value: 0.8522550544323484.\n",
      "[I 2024-01-16 16:24:42,051] Trial 14 finished with value: 0.8460342146189735 and parameters: {'iterations': 666, 'depth': 6, 'learning_rate': 0.2889179153216901, 'random_strength': 4, 'bagging_temperature': 0.4122856557544966, 'l2_leaf_reg': 1.0247372011032864e-08, 'border_count': 190}. Best is trial 10 with value: 0.8522550544323484.\n",
      "[I 2024-01-16 16:24:52,543] Trial 15 finished with value: 0.8289269051321928 and parameters: {'iterations': 598, 'depth': 6, 'learning_rate': 0.2512295209878289, 'random_strength': 1, 'bagging_temperature': 0.6667421300759564, 'l2_leaf_reg': 0.8934057958428484, 'border_count': 146}. Best is trial 10 with value: 0.8522550544323484.\n",
      "[I 2024-01-16 16:24:56,603] Trial 16 finished with value: 0.8398133748055988 and parameters: {'iterations': 294, 'depth': 5, 'learning_rate': 0.18064472101339138, 'random_strength': 12, 'bagging_temperature': 0.27573983402238045, 'l2_leaf_reg': 0.011762597352866437, 'border_count': 253}. Best is trial 10 with value: 0.8522550544323484.\n",
      "[I 2024-01-16 16:25:12,972] Trial 17 finished with value: 0.8304821150855366 and parameters: {'iterations': 484, 'depth': 8, 'learning_rate': 0.18696245617928473, 'random_strength': 7, 'bagging_temperature': 0.161358146989189, 'l2_leaf_reg': 4.475943350041428e-05, 'border_count': 120}. Best is trial 10 with value: 0.8522550544323484.\n",
      "[I 2024-01-16 16:25:24,977] Trial 18 finished with value: 0.8538102643856921 and parameters: {'iterations': 349, 'depth': 8, 'learning_rate': 0.2422010117619298, 'random_strength': 4, 'bagging_temperature': 0.39360839125130537, 'l2_leaf_reg': 0.011631792950945758, 'border_count': 92}. Best is trial 18 with value: 0.8538102643856921.\n",
      "[I 2024-01-16 16:26:33,503] Trial 19 finished with value: 0.8506998444790047 and parameters: {'iterations': 683, 'depth': 10, 'learning_rate': 0.26013581157685295, 'random_strength': 3, 'bagging_temperature': 0.4065776858195299, 'l2_leaf_reg': 0.010654406707399448, 'border_count': 82}. Best is trial 18 with value: 0.8538102643856921.\n",
      "[I 2024-01-16 16:26:51,246] Trial 20 finished with value: 0.8444790046656299 and parameters: {'iterations': 400, 'depth': 8, 'learning_rate': 0.09529786501958484, 'random_strength': 6, 'bagging_temperature': 0.13588024033452284, 'l2_leaf_reg': 5.1178716988417316e-06, 'border_count': 81}. Best is trial 18 with value: 0.8538102643856921.\n",
      "[I 2024-01-16 16:27:10,481] Trial 21 finished with value: 0.8320373250388803 and parameters: {'iterations': 289, 'depth': 9, 'learning_rate': 0.21283996240584616, 'random_strength': 9, 'bagging_temperature': 0.4925674904669712, 'l2_leaf_reg': 0.499522214510497, 'border_count': 162}. Best is trial 18 with value: 0.8538102643856921.\n",
      "[I 2024-01-16 16:27:29,010] Trial 22 finished with value: 0.8413685847589425 and parameters: {'iterations': 538, 'depth': 8, 'learning_rate': 0.26242980760188006, 'random_strength': 3, 'bagging_temperature': 0.645346808419324, 'l2_leaf_reg': 0.04070236365134701, 'border_count': 102}. Best is trial 18 with value: 0.8538102643856921.\n",
      "[I 2024-01-16 16:27:33,106] Trial 23 finished with value: 0.8538102643856921 and parameters: {'iterations': 226, 'depth': 6, 'learning_rate': 0.2307148890548857, 'random_strength': 5, 'bagging_temperature': 0.32481701762925874, 'l2_leaf_reg': 0.0027581113297609626, 'border_count': 148}. Best is trial 18 with value: 0.8538102643856921.\n",
      "[I 2024-01-16 16:27:40,459] Trial 24 finished with value: 0.8320373250388803 and parameters: {'iterations': 362, 'depth': 6, 'learning_rate': 0.010078478118278444, 'random_strength': 1, 'bagging_temperature': 0.2765216388809967, 'l2_leaf_reg': 0.0026857785440262297, 'border_count': 133}. Best is trial 18 with value: 0.8538102643856921.\n",
      "[I 2024-01-16 16:27:43,942] Trial 25 finished with value: 0.8475894245723172 and parameters: {'iterations': 203, 'depth': 5, 'learning_rate': 0.23252311280322255, 'random_strength': 12, 'bagging_temperature': 0.3567520055598632, 'l2_leaf_reg': 0.019519693011869368, 'border_count': 180}. Best is trial 18 with value: 0.8538102643856921.\n",
      "[I 2024-01-16 16:27:47,842] Trial 26 finished with value: 0.8413685847589425 and parameters: {'iterations': 302, 'depth': 4, 'learning_rate': 0.2754378407485424, 'random_strength': 6, 'bagging_temperature': 0.0011049239369046518, 'l2_leaf_reg': 3.5731669915052184e-05, 'border_count': 217}. Best is trial 18 with value: 0.8538102643856921.\n",
      "[I 2024-01-16 16:27:57,567] Trial 27 finished with value: 0.8600311041990669 and parameters: {'iterations': 498, 'depth': 6, 'learning_rate': 0.192825450973882, 'random_strength': 3, 'bagging_temperature': 0.10400874029859009, 'l2_leaf_reg': 0.00219033408044112, 'border_count': 100}. Best is trial 27 with value: 0.8600311041990669.\n",
      "[I 2024-01-16 16:28:08,348] Trial 28 finished with value: 0.8522550544323484 and parameters: {'iterations': 544, 'depth': 6, 'learning_rate': 0.18550190573497238, 'random_strength': 6, 'bagging_temperature': 0.2038172743343168, 'l2_leaf_reg': 0.00017565652746958738, 'border_count': 62}. Best is trial 27 with value: 0.8600311041990669.\n",
      "[I 2024-01-16 16:28:13,779] Trial 29 finished with value: 0.8506998444790047 and parameters: {'iterations': 233, 'depth': 7, 'learning_rate': 0.2985567211869202, 'random_strength': 3, 'bagging_temperature': 0.4643447432838427, 'l2_leaf_reg': 4.251648571614659e-06, 'border_count': 101}. Best is trial 27 with value: 0.8600311041990669.\n",
      "[I 2024-01-16 16:28:26,699] Trial 30 finished with value: 0.8538102643856921 and parameters: {'iterations': 757, 'depth': 6, 'learning_rate': 0.16694550288704668, 'random_strength': 8, 'bagging_temperature': 0.33161319460520633, 'l2_leaf_reg': 0.0035239674581950754, 'border_count': 98}. Best is trial 27 with value: 0.8600311041990669.\n",
      "[I 2024-01-16 16:28:40,877] Trial 31 finished with value: 0.8522550544323484 and parameters: {'iterations': 718, 'depth': 6, 'learning_rate': 0.16570240704039327, 'random_strength': 8, 'bagging_temperature': 0.3382852502001311, 'l2_leaf_reg': 0.0024622473614807705, 'border_count': 59}. Best is trial 27 with value: 0.8600311041990669.\n",
      "[I 2024-01-16 16:28:58,890] Trial 32 finished with value: 0.8491446345256609 and parameters: {'iterations': 805, 'depth': 7, 'learning_rate': 0.19544408700317412, 'random_strength': 5, 'bagging_temperature': 0.11322964551276118, 'l2_leaf_reg': 0.0043322209467508066, 'border_count': 99}. Best is trial 27 with value: 0.8600311041990669.\n",
      "[I 2024-01-16 16:29:18,205] Trial 33 finished with value: 0.8475894245723172 and parameters: {'iterations': 992, 'depth': 6, 'learning_rate': 0.17020253834993573, 'random_strength': 5, 'bagging_temperature': 0.23395919421446715, 'l2_leaf_reg': 0.0008214108095033699, 'border_count': 71}. Best is trial 27 with value: 0.8600311041990669.\n",
      "[I 2024-01-16 16:29:37,366] Trial 34 finished with value: 0.8475894245723172 and parameters: {'iterations': 781, 'depth': 7, 'learning_rate': 0.15127574383617834, 'random_strength': 10, 'bagging_temperature': 0.3269695127511464, 'l2_leaf_reg': 1.7770014987015377, 'border_count': 130}. Best is trial 27 with value: 0.8600311041990669.\n",
      "[I 2024-01-16 16:29:57,975] Trial 35 finished with value: 0.8289269051321928 and parameters: {'iterations': 604, 'depth': 8, 'learning_rate': 0.2326529253642254, 'random_strength': 2, 'bagging_temperature': 0.45435634194871605, 'l2_leaf_reg': 2.646186212599954e-05, 'border_count': 110}. Best is trial 27 with value: 0.8600311041990669.\n",
      "[I 2024-01-16 16:30:03,907] Trial 36 finished with value: 0.8444790046656299 and parameters: {'iterations': 470, 'depth': 5, 'learning_rate': 0.2066551541803707, 'random_strength': 8, 'bagging_temperature': 0.2365335017568735, 'l2_leaf_reg': 0.00024955573885272465, 'border_count': 90}. Best is trial 27 with value: 0.8600311041990669.\n",
      "[I 2024-01-16 16:30:06,933] Trial 37 finished with value: 0.8475894245723172 and parameters: {'iterations': 185, 'depth': 6, 'learning_rate': 0.1309352893836411, 'random_strength': 4, 'bagging_temperature': 0.571590909982262, 'l2_leaf_reg': 0.0017361894723729857, 'border_count': 135}. Best is trial 27 with value: 0.8600311041990669.\n",
      "[I 2024-01-16 16:30:19,807] Trial 38 finished with value: 0.8569206842923794 and parameters: {'iterations': 600, 'depth': 7, 'learning_rate': 0.2240186414487981, 'random_strength': 12, 'bagging_temperature': 0.37082830253185695, 'l2_leaf_reg': 0.000671439801892065, 'border_count': 153}. Best is trial 27 with value: 0.8600311041990669.\n",
      "[I 2024-01-16 16:30:32,461] Trial 39 finished with value: 0.8569206842923794 and parameters: {'iterations': 600, 'depth': 7, 'learning_rate': 0.22166045447071758, 'random_strength': 14, 'bagging_temperature': 0.6172165868362172, 'l2_leaf_reg': 0.0007075196230392044, 'border_count': 156}. Best is trial 27 with value: 0.8600311041990669.\n",
      "[I 2024-01-16 16:31:09,494] Trial 40 finished with value: 0.8522550544323484 and parameters: {'iterations': 615, 'depth': 9, 'learning_rate': 0.26862248961883467, 'random_strength': 15, 'bagging_temperature': 0.6424832804261444, 'l2_leaf_reg': 8.963155187161016e-05, 'border_count': 166}. Best is trial 27 with value: 0.8600311041990669.\n",
      "[I 2024-01-16 16:31:21,244] Trial 41 finished with value: 0.8444790046656299 and parameters: {'iterations': 513, 'depth': 7, 'learning_rate': 0.22808857768373964, 'random_strength': 14, 'bagging_temperature': 0.7366749978069462, 'l2_leaf_reg': 0.00041761976513589755, 'border_count': 151}. Best is trial 27 with value: 0.8600311041990669.\n",
      "[I 2024-01-16 16:31:35,529] Trial 42 finished with value: 0.8475894245723172 and parameters: {'iterations': 630, 'depth': 7, 'learning_rate': 0.20465590645903003, 'random_strength': 12, 'bagging_temperature': 0.5379226031853542, 'l2_leaf_reg': 0.0009047633709106873, 'border_count': 141}. Best is trial 27 with value: 0.8600311041990669.\n",
      "[I 2024-01-16 16:31:55,575] Trial 43 finished with value: 0.8475894245723172 and parameters: {'iterations': 579, 'depth': 8, 'learning_rate': 0.249438489844703, 'random_strength': 16, 'bagging_temperature': 0.6043445022854015, 'l2_leaf_reg': 0.020628618835354287, 'border_count': 156}. Best is trial 27 with value: 0.8600311041990669.\n",
      "[I 2024-01-16 16:32:01,971] Trial 44 finished with value: 0.8460342146189735 and parameters: {'iterations': 260, 'depth': 7, 'learning_rate': 0.22025674203387005, 'random_strength': 13, 'bagging_temperature': 0.38774427813908313, 'l2_leaf_reg': 0.00041574874721415434, 'border_count': 120}. Best is trial 27 with value: 0.8600311041990669.\n",
      "[I 2024-01-16 16:32:18,057] Trial 45 finished with value: 0.8460342146189735 and parameters: {'iterations': 446, 'depth': 8, 'learning_rate': 0.19257160144458005, 'random_strength': 11, 'bagging_temperature': 0.46121058185380753, 'l2_leaf_reg': 0.2056425986854605, 'border_count': 166}. Best is trial 27 with value: 0.8600311041990669.\n",
      "[I 2024-01-16 16:32:26,552] Trial 46 finished with value: 0.8506998444790047 and parameters: {'iterations': 360, 'depth': 7, 'learning_rate': 0.22506468098016436, 'random_strength': 14, 'bagging_temperature': 0.7219228569853297, 'l2_leaf_reg': 1.2117482361762142e-06, 'border_count': 175}. Best is trial 27 with value: 0.8600311041990669.\n",
      "[I 2024-01-16 16:32:35,970] Trial 47 finished with value: 0.838258164852255 and parameters: {'iterations': 147, 'depth': 9, 'learning_rate': 0.24247917292030913, 'random_strength': 17, 'bagging_temperature': 0.08551285898827743, 'l2_leaf_reg': 0.0010132517638610499, 'border_count': 113}. Best is trial 27 with value: 0.8600311041990669.\n",
      "[I 2024-01-16 16:32:53,244] Trial 48 finished with value: 0.8460342146189735 and parameters: {'iterations': 660, 'depth': 7, 'learning_rate': 0.282114007078206, 'random_strength': 2, 'bagging_temperature': 0.8735085318591267, 'l2_leaf_reg': 0.005026101690649914, 'border_count': 49}. Best is trial 27 with value: 0.8600311041990669.\n",
      "[I 2024-01-16 16:32:57,004] Trial 49 finished with value: 0.8211508553654744 and parameters: {'iterations': 102, 'depth': 8, 'learning_rate': 0.2012184328009345, 'random_strength': 11, 'bagging_temperature': 0.29705493896348806, 'l2_leaf_reg': 1.6612960595390598e-05, 'border_count': 147}. Best is trial 27 with value: 0.8600311041990669.\n",
      "[I 2024-01-16 16:33:05,383] Trial 50 finished with value: 0.8273716951788491 and parameters: {'iterations': 509, 'depth': 6, 'learning_rate': 0.2591603819846577, 'random_strength': 20, 'bagging_temperature': 0.5134660148828608, 'l2_leaf_reg': 6.538711869648854e-05, 'border_count': 140}. Best is trial 27 with value: 0.8600311041990669.\n",
      "[I 2024-01-16 16:33:18,168] Trial 51 finished with value: 0.8522550544323484 and parameters: {'iterations': 741, 'depth': 6, 'learning_rate': 0.17507454795649713, 'random_strength': 9, 'bagging_temperature': 0.3749268502396046, 'l2_leaf_reg': 0.007068238102414732, 'border_count': 95}. Best is trial 27 with value: 0.8600311041990669.\n",
      "[I 2024-01-16 16:33:27,681] Trial 52 finished with value: 0.8444790046656299 and parameters: {'iterations': 705, 'depth': 5, 'learning_rate': 0.15665509215594484, 'random_strength': 7, 'bagging_temperature': 0.42105142820628405, 'l2_leaf_reg': 0.0025183038697529124, 'border_count': 76}. Best is trial 27 with value: 0.8600311041990669.\n",
      "[I 2024-01-16 16:33:37,865] Trial 53 finished with value: 0.8444790046656299 and parameters: {'iterations': 575, 'depth': 6, 'learning_rate': 0.23884537328497354, 'random_strength': 13, 'bagging_temperature': 0.30592739593040824, 'l2_leaf_reg': 0.09693093379814274, 'border_count': 128}. Best is trial 27 with value: 0.8600311041990669.\n",
      "[I 2024-01-16 16:33:58,175] Trial 54 finished with value: 0.8429237947122862 and parameters: {'iterations': 881, 'depth': 7, 'learning_rate': 0.1340300189086716, 'random_strength': 5, 'bagging_temperature': 0.22779362050134205, 'l2_leaf_reg': 0.021076916260065866, 'border_count': 109}. Best is trial 27 with value: 0.8600311041990669.\n",
      "[I 2024-01-16 16:34:05,905] Trial 55 finished with value: 0.8444790046656299 and parameters: {'iterations': 440, 'depth': 6, 'learning_rate': 0.21288638224167356, 'random_strength': 3, 'bagging_temperature': 0.4293801853970294, 'l2_leaf_reg': 0.00030198423711658666, 'border_count': 88}. Best is trial 27 with value: 0.8600311041990669.\n",
      "[I 2024-01-16 16:34:16,404] Trial 56 finished with value: 0.8460342146189735 and parameters: {'iterations': 767, 'depth': 5, 'learning_rate': 0.11527943445515954, 'random_strength': 9, 'bagging_temperature': 0.1772666368351542, 'l2_leaf_reg': 0.0015789472502332215, 'border_count': 174}. Best is trial 27 with value: 0.8600311041990669.\n",
      "[I 2024-01-16 16:34:24,275] Trial 57 finished with value: 0.8460342146189735 and parameters: {'iterations': 328, 'depth': 7, 'learning_rate': 0.21953509153662348, 'random_strength': 15, 'bagging_temperature': 0.4997956076976747, 'l2_leaf_reg': 0.010939863610972576, 'border_count': 185}. Best is trial 27 with value: 0.8600311041990669.\n",
      "[I 2024-01-16 16:34:39,608] Trial 58 finished with value: 0.8475894245723172 and parameters: {'iterations': 662, 'depth': 7, 'learning_rate': 0.17950691110185646, 'random_strength': 10, 'bagging_temperature': 0.3597457814054131, 'l2_leaf_reg': 0.029340846899556943, 'border_count': 123}. Best is trial 27 with value: 0.8600311041990669.\n",
      "[I 2024-01-16 16:34:46,624] Trial 59 finished with value: 0.8522550544323484 and parameters: {'iterations': 407, 'depth': 6, 'learning_rate': 0.24975916341599141, 'random_strength': 4, 'bagging_temperature': 0.2693562697419588, 'l2_leaf_reg': 2.6432021058750693e-08, 'border_count': 158}. Best is trial 27 with value: 0.8600311041990669.\n",
      "[I 2024-01-16 16:34:53,449] Trial 60 finished with value: 0.8444790046656299 and parameters: {'iterations': 498, 'depth': 5, 'learning_rate': 0.19668122270443045, 'random_strength': 7, 'bagging_temperature': 0.6185331908674958, 'l2_leaf_reg': 0.0001231517562322351, 'border_count': 201}. Best is trial 27 with value: 0.8600311041990669.\n",
      "[I 2024-01-16 16:34:57,468] Trial 61 finished with value: 0.8522550544323484 and parameters: {'iterations': 377, 'depth': 4, 'learning_rate': 0.2419300936850404, 'random_strength': 1, 'bagging_temperature': 0.052453867260204956, 'l2_leaf_reg': 0.06850703589552506, 'border_count': 68}. Best is trial 27 with value: 0.8600311041990669.\n",
      "[I 2024-01-16 16:35:04,646] Trial 62 finished with value: 0.8553654743390358 and parameters: {'iterations': 543, 'depth': 5, 'learning_rate': 0.23127343996984379, 'random_strength': 2, 'bagging_temperature': 0.0002912229423422605, 'l2_leaf_reg': 0.004315347335085363, 'border_count': 214}. Best is trial 27 with value: 0.8600311041990669.\n",
      "[I 2024-01-16 16:35:12,075] Trial 63 finished with value: 0.8491446345256609 and parameters: {'iterations': 565, 'depth': 5, 'learning_rate': 0.2314528581920412, 'random_strength': 2, 'bagging_temperature': 0.0865458800492879, 'l2_leaf_reg': 0.003911267941809919, 'border_count': 249}. Best is trial 27 with value: 0.8600311041990669.\n",
      "[I 2024-01-16 16:35:23,182] Trial 64 finished with value: 0.8491446345256609 and parameters: {'iterations': 636, 'depth': 6, 'learning_rate': 0.21603497755142978, 'random_strength': 3, 'bagging_temperature': 0.12384273423880676, 'l2_leaf_reg': 0.00892599362054675, 'border_count': 241}. Best is trial 27 with value: 0.8600311041990669.\n",
      "[I 2024-01-16 16:35:26,110] Trial 65 finished with value: 0.8398133748055988 and parameters: {'iterations': 265, 'depth': 4, 'learning_rate': 0.18704084169852753, 'random_strength': 6, 'bagging_temperature': 0.03003351183612229, 'l2_leaf_reg': 0.0008089968552719471, 'border_count': 202}. Best is trial 27 with value: 0.8600311041990669.\n",
      "[I 2024-01-16 16:35:35,075] Trial 66 finished with value: 0.8522550544323484 and parameters: {'iterations': 692, 'depth': 5, 'learning_rate': 0.2725611244589349, 'random_strength': 4, 'bagging_temperature': 0.3308741117130072, 'l2_leaf_reg': 0.0014035572950105515, 'border_count': 216}. Best is trial 27 with value: 0.8600311041990669.\n",
      "[I 2024-01-16 16:36:28,634] Trial 67 finished with value: 0.8569206842923794 and parameters: {'iterations': 531, 'depth': 10, 'learning_rate': 0.2556348187535642, 'random_strength': 4, 'bagging_temperature': 0.14809550959075668, 'l2_leaf_reg': 0.004008788089052337, 'border_count': 102}. Best is trial 27 with value: 0.8600311041990669.\n",
      "[I 2024-01-16 16:37:22,291] Trial 68 finished with value: 0.8475894245723172 and parameters: {'iterations': 524, 'depth': 10, 'learning_rate': 0.26759344212962405, 'random_strength': 2, 'bagging_temperature': 0.15906765220466743, 'l2_leaf_reg': 0.00017241712535929766, 'border_count': 226}. Best is trial 27 with value: 0.8600311041990669.\n",
      "[I 2024-01-16 16:38:17,594] Trial 69 finished with value: 0.8398133748055988 and parameters: {'iterations': 550, 'depth': 10, 'learning_rate': 0.2577534454555269, 'random_strength': 3, 'bagging_temperature': 0.09567115320270178, 'l2_leaf_reg': 0.013318610407850689, 'border_count': 108}. Best is trial 27 with value: 0.8600311041990669.\n",
      "[I 2024-01-16 16:38:38,465] Trial 70 finished with value: 0.838258164852255 and parameters: {'iterations': 205, 'depth': 10, 'learning_rate': 0.25434750331643435, 'random_strength': 5, 'bagging_temperature': 0.027880599387150345, 'l2_leaf_reg': 0.00047261869328701515, 'border_count': 117}. Best is trial 27 with value: 0.8600311041990669.\n",
      "[I 2024-01-16 16:39:04,361] Trial 71 finished with value: 0.8367029548989113 and parameters: {'iterations': 432, 'depth': 9, 'learning_rate': 0.23724359091632524, 'random_strength': 5, 'bagging_temperature': 0.20225316686078562, 'l2_leaf_reg': 0.004022124336012114, 'border_count': 92}. Best is trial 27 with value: 0.8600311041990669.\n",
      "[I 2024-01-16 16:39:12,679] Trial 72 finished with value: 0.8569206842923794 and parameters: {'iterations': 479, 'depth': 6, 'learning_rate': 0.20735120528865347, 'random_strength': 4, 'bagging_temperature': 0.003438887713170536, 'l2_leaf_reg': 0.0033002853345844613, 'border_count': 86}. Best is trial 27 with value: 0.8600311041990669.\n",
      "[I 2024-01-16 16:39:48,179] Trial 73 finished with value: 0.8444790046656299 and parameters: {'iterations': 596, 'depth': 9, 'learning_rate': 0.22460029343890475, 'random_strength': 4, 'bagging_temperature': 0.0004045048844195532, 'l2_leaf_reg': 0.0022782840412641577, 'border_count': 86}. Best is trial 27 with value: 0.8600311041990669.\n",
      "[I 2024-01-16 16:40:06,751] Trial 74 finished with value: 0.8553654743390358 and parameters: {'iterations': 472, 'depth': 8, 'learning_rate': 0.20853556518056537, 'random_strength': 2, 'bagging_temperature': 0.07204568841638585, 'l2_leaf_reg': 0.03684588377682237, 'border_count': 77}. Best is trial 27 with value: 0.8600311041990669.\n",
      "[I 2024-01-16 16:40:24,986] Trial 75 finished with value: 0.8444790046656299 and parameters: {'iterations': 463, 'depth': 8, 'learning_rate': 0.21168560956308666, 'random_strength': 1, 'bagging_temperature': 0.058131438888108955, 'l2_leaf_reg': 0.11645243425156915, 'border_count': 54}. Best is trial 27 with value: 0.8600311041990669.\n",
      "[I 2024-01-16 16:40:45,312] Trial 76 finished with value: 0.8367029548989113 and parameters: {'iterations': 492, 'depth': 8, 'learning_rate': 0.19991056600005114, 'random_strength': 2, 'bagging_temperature': 0.0739684962032642, 'l2_leaf_reg': 0.4713488630022411, 'border_count': 73}. Best is trial 27 with value: 0.8600311041990669.\n",
      "[I 2024-01-16 16:41:04,056] Trial 77 finished with value: 0.8460342146189735 and parameters: {'iterations': 543, 'depth': 8, 'learning_rate': 0.2059139847974263, 'random_strength': 3, 'bagging_temperature': 0.1361246425869081, 'l2_leaf_reg': 0.03205088589654817, 'border_count': 105}. Best is trial 27 with value: 0.8600311041990669.\n",
      "[I 2024-01-16 16:41:17,289] Trial 78 finished with value: 0.8351477449455676 and parameters: {'iterations': 483, 'depth': 7, 'learning_rate': 0.22296737694034158, 'random_strength': 13, 'bagging_temperature': 0.01840584395970254, 'l2_leaf_reg': 0.006456760003476374, 'border_count': 83}. Best is trial 27 with value: 0.8600311041990669.\n",
      "[I 2024-01-16 16:41:51,762] Trial 79 finished with value: 0.8444790046656299 and parameters: {'iterations': 531, 'depth': 9, 'learning_rate': 0.24554921267465732, 'random_strength': 2, 'bagging_temperature': 0.14821144620292204, 'l2_leaf_reg': 0.055555887210892566, 'border_count': 66}. Best is trial 27 with value: 0.8600311041990669.\n",
      "[I 2024-01-16 16:42:17,204] Trial 80 finished with value: 0.8398133748055988 and parameters: {'iterations': 630, 'depth': 8, 'learning_rate': 0.07352292136884717, 'random_strength': 1, 'bagging_temperature': 0.09984971896317063, 'l2_leaf_reg': 0.015072443530884118, 'border_count': 75}. Best is trial 27 with value: 0.8600311041990669.\n",
      "[I 2024-01-16 16:42:25,662] Trial 81 finished with value: 0.8538102643856921 and parameters: {'iterations': 429, 'depth': 6, 'learning_rate': 0.23292225103891634, 'random_strength': 3, 'bagging_temperature': 0.06861545781344923, 'l2_leaf_reg': 0.0011181789581853354, 'border_count': 40}. Best is trial 27 with value: 0.8600311041990669.\n",
      "[I 2024-01-16 16:42:35,643] Trial 82 finished with value: 0.8413685847589425 and parameters: {'iterations': 568, 'depth': 6, 'learning_rate': 0.19143189512833458, 'random_strength': 4, 'bagging_temperature': 0.04197697245846254, 'l2_leaf_reg': 0.006303116798552975, 'border_count': 136}. Best is trial 27 with value: 0.8600311041990669.\n",
      "[I 2024-01-16 16:42:44,570] Trial 83 finished with value: 0.8538102643856921 and parameters: {'iterations': 383, 'depth': 7, 'learning_rate': 0.22778152325376866, 'random_strength': 6, 'bagging_temperature': 0.12262952920042162, 'l2_leaf_reg': 0.0006032787938279776, 'border_count': 149}. Best is trial 27 with value: 0.8600311041990669.\n",
      "[I 2024-01-16 16:42:52,071] Trial 84 finished with value: 0.8631415241057543 and parameters: {'iterations': 322, 'depth': 7, 'learning_rate': 0.217208911326632, 'random_strength': 4, 'bagging_temperature': 0.7042831617591276, 'l2_leaf_reg': 0.002531330867001478, 'border_count': 98}. Best is trial 84 with value: 0.8631415241057543.\n",
      "[I 2024-01-16 16:42:59,608] Trial 85 finished with value: 0.8429237947122862 and parameters: {'iterations': 323, 'depth': 7, 'learning_rate': 0.20949289105543595, 'random_strength': 4, 'bagging_temperature': 0.6926999295088876, 'l2_leaf_reg': 0.001354176613172037, 'border_count': 98}. Best is trial 84 with value: 0.8631415241057543.\n",
      "[I 2024-01-16 16:43:23,522] Trial 86 finished with value: 0.8506998444790047 and parameters: {'iterations': 601, 'depth': 8, 'learning_rate': 0.21715723741173962, 'random_strength': 2, 'bagging_temperature': 0.6705305628107021, 'l2_leaf_reg': 0.0002038073536148955, 'border_count': 78}. Best is trial 84 with value: 0.8631415241057543.\n",
      "[I 2024-01-16 16:43:31,704] Trial 87 finished with value: 0.8367029548989113 and parameters: {'iterations': 352, 'depth': 7, 'learning_rate': 0.28077429970041085, 'random_strength': 15, 'bagging_temperature': 0.5646679920263614, 'l2_leaf_reg': 0.0024627722767822735, 'border_count': 92}. Best is trial 84 with value: 0.8631415241057543.\n",
      "[I 2024-01-16 16:43:42,680] Trial 88 finished with value: 0.8429237947122862 and parameters: {'iterations': 468, 'depth': 7, 'learning_rate': 0.20228797617874553, 'random_strength': 3, 'bagging_temperature': 0.7541348102469068, 'l2_leaf_reg': 0.026673584615253286, 'border_count': 104}. Best is trial 84 with value: 0.8631415241057543.\n",
      "[I 2024-01-16 16:43:56,848] Trial 89 finished with value: 0.8429237947122862 and parameters: {'iterations': 514, 'depth': 7, 'learning_rate': 0.23711269815751015, 'random_strength': 11, 'bagging_temperature': 0.8592532069012366, 'l2_leaf_reg': 0.009859552065105245, 'border_count': 84}. Best is trial 84 with value: 0.8631415241057543.\n",
      "[I 2024-01-16 16:44:32,278] Trial 90 finished with value: 0.8460342146189735 and parameters: {'iterations': 584, 'depth': 9, 'learning_rate': 0.26364603887696625, 'random_strength': 5, 'bagging_temperature': 0.8010268048595577, 'l2_leaf_reg': 0.0005041125388741325, 'border_count': 193}. Best is trial 84 with value: 0.8631415241057543.\n",
      "[I 2024-01-16 16:44:37,060] Trial 91 finished with value: 0.8553654743390358 and parameters: {'iterations': 314, 'depth': 6, 'learning_rate': 0.2471520828834622, 'random_strength': 12, 'bagging_temperature': 0.2604870967587174, 'l2_leaf_reg': 0.0032523168307023163, 'border_count': 128}. Best is trial 84 with value: 0.8631415241057543.\n",
      "[I 2024-01-16 16:44:40,833] Trial 92 finished with value: 0.8320373250388803 and parameters: {'iterations': 296, 'depth': 5, 'learning_rate': 0.2466355947733011, 'random_strength': 12, 'bagging_temperature': 0.26482516224351393, 'l2_leaf_reg': 0.0036806899959094678, 'border_count': 113}. Best is trial 84 with value: 0.8631415241057543.\n",
      "[I 2024-01-16 16:44:45,313] Trial 93 finished with value: 0.8538102643856921 and parameters: {'iterations': 273, 'depth': 6, 'learning_rate': 0.25246428361977524, 'random_strength': 13, 'bagging_temperature': 0.17421254054809127, 'l2_leaf_reg': 0.0017536720477471757, 'border_count': 127}. Best is trial 84 with value: 0.8631415241057543.\n",
      "[I 2024-01-16 16:44:52,545] Trial 94 finished with value: 0.8460342146189735 and parameters: {'iterations': 338, 'depth': 7, 'learning_rate': 0.22094311541185313, 'random_strength': 14, 'bagging_temperature': 0.01518180690726205, 'l2_leaf_reg': 0.005098226634439121, 'border_count': 96}. Best is trial 84 with value: 0.8631415241057543.\n",
      "[I 2024-01-16 16:45:00,961] Trial 95 finished with value: 0.8351477449455676 and parameters: {'iterations': 415, 'depth': 6, 'learning_rate': 0.02881786345665044, 'random_strength': 12, 'bagging_temperature': 0.7872332382657965, 'l2_leaf_reg': 0.0007235648636138924, 'border_count': 80}. Best is trial 84 with value: 0.8631415241057543.\n",
      "[I 2024-01-16 16:45:07,137] Trial 96 finished with value: 0.8444790046656299 and parameters: {'iterations': 385, 'depth': 6, 'learning_rate': 0.23561005601594293, 'random_strength': 2, 'bagging_temperature': 0.24906175562911312, 'l2_leaf_reg': 0.007729858218069882, 'border_count': 90}. Best is trial 84 with value: 0.8631415241057543.\n",
      "[I 2024-01-16 16:45:15,741] Trial 97 finished with value: 0.8475894245723172 and parameters: {'iterations': 311, 'depth': 7, 'learning_rate': 0.180914392598092, 'random_strength': 16, 'bagging_temperature': 0.598181082131112, 'l2_leaf_reg': 0.01696726504383465, 'border_count': 60}. Best is trial 84 with value: 0.8631415241057543.\n",
      "[I 2024-01-16 16:45:23,145] Trial 98 finished with value: 0.8522550544323484 and parameters: {'iterations': 558, 'depth': 5, 'learning_rate': 0.29734671700684256, 'random_strength': 3, 'bagging_temperature': 0.4378915225923801, 'l2_leaf_reg': 0.0010387774958821687, 'border_count': 119}. Best is trial 84 with value: 0.8631415241057543.\n",
      "[I 2024-01-16 16:45:25,968] Trial 99 finished with value: 0.8398133748055988 and parameters: {'iterations': 248, 'depth': 4, 'learning_rate': 0.22690218669003462, 'random_strength': 10, 'bagging_temperature': 0.20871864393011158, 'l2_leaf_reg': 0.04431277494592679, 'border_count': 166}. Best is trial 84 with value: 0.8631415241057543.\n"
     ]
    },
    {
     "name": "stdout",
     "output_type": "stream",
     "text": [
      "Best parameters: {'iterations': 322, 'depth': 7, 'learning_rate': 0.217208911326632, 'random_strength': 4, 'bagging_temperature': 0.7042831617591276, 'l2_leaf_reg': 0.002531330867001478, 'border_count': 98}\n",
      "0:\tlearn: 0.6461385\ttotal: 14.3ms\tremaining: 4.59s\n",
      "20:\tlearn: 0.4060558\ttotal: 489ms\tremaining: 7.01s\n",
      "40:\tlearn: 0.2971482\ttotal: 967ms\tremaining: 6.63s\n",
      "60:\tlearn: 0.1642661\ttotal: 1.4s\tremaining: 6s\n",
      "80:\tlearn: 0.0981052\ttotal: 1.88s\tremaining: 5.61s\n",
      "100:\tlearn: 0.0594074\ttotal: 2.37s\tremaining: 5.18s\n",
      "120:\tlearn: 0.0372368\ttotal: 2.8s\tremaining: 4.64s\n",
      "140:\tlearn: 0.0255554\ttotal: 3.28s\tremaining: 4.21s\n",
      "160:\tlearn: 0.0182804\ttotal: 3.76s\tremaining: 3.76s\n",
      "180:\tlearn: 0.0136498\ttotal: 4.19s\tremaining: 3.26s\n",
      "200:\tlearn: 0.0104622\ttotal: 4.67s\tremaining: 2.81s\n",
      "220:\tlearn: 0.0086047\ttotal: 5.15s\tremaining: 2.35s\n",
      "240:\tlearn: 0.0073808\ttotal: 5.57s\tremaining: 1.87s\n",
      "260:\tlearn: 0.0064235\ttotal: 6.07s\tremaining: 1.42s\n",
      "280:\tlearn: 0.0057470\ttotal: 6.55s\tremaining: 955ms\n",
      "300:\tlearn: 0.0052434\ttotal: 6.97s\tremaining: 486ms\n",
      "320:\tlearn: 0.0049111\ttotal: 7.46s\tremaining: 23.2ms\n",
      "321:\tlearn: 0.0048673\ttotal: 7.47s\tremaining: 0us\n",
      "Improved CatBoostClassifier Model Accuracy: 86.3142%\n"
     ]
    }
   ],
   "source": [
    "def objective(trial):\n",
    "    param = {\n",
    "        'iterations': trial.suggest_int('iterations', 100, 1000),\n",
    "        'depth': trial.suggest_int('depth', 4, 10),\n",
    "        'learning_rate': trial.suggest_float('learning_rate', 0.01, 0.3),\n",
    "        'random_strength': trial.suggest_int('random_strength', 1, 20),\n",
    "        'bagging_temperature': trial.suggest_float('bagging_temperature', 0.0, 1.0),\n",
    "        'l2_leaf_reg': trial.suggest_float('l2_leaf_reg', 1e-8, 10.0, log=True),\n",
    "        'border_count': trial.suggest_int('border_count', 32, 255),\n",
    "        'loss_function': 'Logloss',\n",
    "        'verbose': False,\n",
    "        'random_state': 0\n",
    "    }\n",
    "\n",
    "    cat = CatBoostClassifier(**param)\n",
    "    cat.fit(X_train_transformed, Y_train, verbose=0, early_stopping_rounds=50)\n",
    "\n",
    "    y_pred = cat.predict(X_test_transformed)\n",
    "    accuracy = accuracy_score(Y_test, y_pred)\n",
    "    return accuracy\n",
    "\n",
    "study = optuna.create_study(direction='maximize')\n",
    "study.optimize(objective, n_trials=100)\n",
    "\n",
    "# Best parameters after optimization\n",
    "best_params = study.best_params\n",
    "print(\"Best parameters:\", best_params)\n",
    "\n",
    "# Train the best model\n",
    "best_cat = CatBoostClassifier(**best_params)\n",
    "best_cat.fit(X_train_transformed, Y_train, verbose=20)\n",
    "\n",
    "# Evaluation\n",
    "y_pred_best_cat = best_cat.predict(X_test_transformed)\n",
    "accuracy_cat_best = accuracy_score(Y_test, y_pred_best_cat)\n",
    "print(\"Improved CatBoostClassifier Model Accuracy: {:.4f}%\".format(accuracy_cat_best * 100))"
   ]
  },
  {
   "cell_type": "code",
   "execution_count": 37,
   "id": "0eaa990f",
   "metadata": {},
   "outputs": [
    {
     "name": "stdout",
     "output_type": "stream",
     "text": [
      "           Model  Accuracy\n",
      "1    Naive Bayes  0.863142\n",
      "7       CatBoost  0.863142\n",
      "0          Logit  0.861586\n",
      "3            ANN  0.861586\n",
      "6       LightGBM  0.842924\n",
      "2        XGBoost  0.835148\n",
      "5  Random Forest  0.835148\n",
      "4  Decision Tree  0.800933\n"
     ]
    }
   ],
   "source": [
    "import pandas as pd\n",
    "\n",
    "# Create a DataFrame to compare the scores\n",
    "model_comparison = pd.DataFrame({\n",
    "    'Model': ['Logit','Naive Bayes','XGBoost','ANN','Decision Tree','Random Forest','LightGBM','CatBoost'],\n",
    "    'Accuracy': [accuracy_logit_best,\n",
    "                  accuracy_NB_best,\n",
    "                  accuracy_xgboost_best,\n",
    "                  accuracy_dl_best,\n",
    "                  accuracy_dt_best,\n",
    "                  accuracy_rf_best,\n",
    "                  accuracy_lgb_best,\n",
    "                  accuracy_cat_best]\n",
    "})\n",
    "\n",
    "# Sort the DataFrame based on score for better visualization\n",
    "model_comparison.sort_values(by='Accuracy', ascending=False, inplace=True)\n",
    "\n",
    "# Display the DataFrame\n",
    "print(model_comparison)"
   ]
  },
  {
   "cell_type": "code",
   "execution_count": 38,
   "id": "34b06204",
   "metadata": {},
   "outputs": [
    {
     "data": {
      "image/png": "[encoded data removed]",
      "text/plain": [
       "<Figure size 720x432 with 1 Axes>"
      ]
     },
     "metadata": {
      "needs_background": "light"
     },
     "output_type": "display_data"
    }
   ],
   "source": [
    "# Bar plot for model comparison\n",
    "plt.figure(figsize=(10, 6))\n",
    "bars = plt.bar(model_comparison['Model'], model_comparison['Accuracy'], color='pink')\n",
    "\n",
    "# Add the accuracy values on top of the bars\n",
    "for bar in bars:\n",
    "    yval = bar.get_height()\n",
    "    plt.text(bar.get_x() + bar.get_width()/2, yval, f'{yval:.4f}', ha='center', va='bottom')\n",
    "\n",
    "plt.xlabel('Models')\n",
    "plt.xticks(rotation=90)\n",
    "plt.ylabel('Accuracy')\n",
    "plt.title('Model Accuracy Comparison')\n",
    "plt.show()"
   ]
  },
  {
   "cell_type": "code",
   "execution_count": null,
   "id": "0de8658b",
   "metadata": {},
   "outputs": [],
   "source": []
  }
 ],
 "metadata": {
  "kernelspec": {
   "display_name": "Python 3.9 (Default)",
   "language": "python",
   "name": "python3"
  },
  "language_info": {
   "codemirror_mode": {
    "name": "ipython",
    "version": 3
   },
   "file_extension": ".py",
   "mimetype": "text/x-python",
   "name": "python",
   "nbconvert_exporter": "python",
   "pygments_lexer": "ipython3",
   "version": "3.9.7"
  }
 },
 "nbformat": 4,
 "nbformat_minor": 5
}
